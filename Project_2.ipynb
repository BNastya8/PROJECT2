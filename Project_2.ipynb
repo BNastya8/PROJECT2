{
  "cells": [
    {
      "cell_type": "markdown",
      "id": "42289889-bd57-434e-9637-d3e354756316",
      "metadata": {
        "id": "42289889-bd57-434e-9637-d3e354756316"
      },
      "source": [
        "<center> <img src = https://raw.githubusercontent.com/AndreyRysistov/DatasetsForPandas/main/hh%20label.jpg alt=\"drawing\" style=\"width:400px;\">"
      ]
    },
    {
      "cell_type": "markdown",
      "id": "829cb75b-f14e-4ba8-9195-7ba929a7d656",
      "metadata": {
        "id": "829cb75b-f14e-4ba8-9195-7ba929a7d656",
        "tags": []
      },
      "source": [
        "# <center> Проект: Анализ вакансий из HeadHunter\n",
        "   "
      ]
    },
    {
      "cell_type": "code",
      "execution_count": 257,
      "id": "dccfde33-2452-43fb-a8a5-5c6ebc02a71d",
      "metadata": {
        "id": "dccfde33-2452-43fb-a8a5-5c6ebc02a71d"
      },
      "outputs": [],
      "source": [
        "import pandas as pd\n",
        "import psycopg2"
      ]
    },
    {
      "cell_type": "code",
      "execution_count": null,
      "id": "oVKH4ehvf8Ay",
      "metadata": {
        "id": "oVKH4ehvf8Ay"
      },
      "outputs": [],
      "source": [
        "# вставьте сюда параметры подключения из юнита 1. Работа с базой данных из Python "
      ]
    },
    {
      "cell_type": "code",
      "execution_count": 258,
      "id": "G4X_q8KBf7SF",
      "metadata": {
        "id": "G4X_q8KBf7SF"
      },
      "outputs": [],
      "source": [
        "# реальные параметры отключения заменены на пустой шаблон\n",
        "connection = psycopg2.connect(\n",
        "   dbname=DBNAME,\n",
        "   user=USER,\n",
        "   host=HOST,\n",
        "   password=PASSWORD,\n",
        "   port=PORT\n",
        ")"
      ]
    },
    {
      "cell_type": "code",
      "execution_count": 259,
      "id": "c03edd15",
      "metadata": {},
      "outputs": [],
      "source": [
        "# применим, чтобы отображался результат без лишней информации\n",
        "import warnings\n",
        "warnings.filterwarnings('ignore')"
      ]
    },
    {
      "cell_type": "markdown",
      "id": "0dc6476b-7a00-44f1-ac93-6e3baed33a29",
      "metadata": {
        "id": "0dc6476b-7a00-44f1-ac93-6e3baed33a29"
      },
      "source": [
        "# Юнит 3. Предварительный анализ данных"
      ]
    },
    {
      "cell_type": "markdown",
      "id": "889782b6-8d1c-410e-8920-e57f27917c64",
      "metadata": {
        "id": "889782b6-8d1c-410e-8920-e57f27917c64"
      },
      "source": [
        "1. Напишите запрос, который посчитает количество вакансий в нашей базе (вакансии находятся в таблице vacancies). "
      ]
    },
    {
      "cell_type": "code",
      "execution_count": 260,
      "id": "bc39e68e-ed02-4ee2-9235-7258a2f867a8",
      "metadata": {
        "id": "bc39e68e-ed02-4ee2-9235-7258a2f867a8"
      },
      "outputs": [],
      "source": [
        "# текст запроса\n",
        "query_3_1 = f''' SELECT\n",
        "                     COUNT(id) AS vacancies_count\n",
        "                 FROM VACANCIES\n",
        "             '''\n",
        "# использовала запрос на определение количества строк в столбце id в таблице VACANCIES"
      ]
    },
    {
      "cell_type": "code",
      "execution_count": 261,
      "id": "7mAwtsk4hEHY",
      "metadata": {
        "id": "7mAwtsk4hEHY"
      },
      "outputs": [
        {
          "data": {
            "text/html": [
              "<div>\n",
              "<style scoped>\n",
              "    .dataframe tbody tr th:only-of-type {\n",
              "        vertical-align: middle;\n",
              "    }\n",
              "\n",
              "    .dataframe tbody tr th {\n",
              "        vertical-align: top;\n",
              "    }\n",
              "\n",
              "    .dataframe thead th {\n",
              "        text-align: right;\n",
              "    }\n",
              "</style>\n",
              "<table border=\"1\" class=\"dataframe\">\n",
              "  <thead>\n",
              "    <tr style=\"text-align: right;\">\n",
              "      <th></th>\n",
              "      <th>vacancies_count</th>\n",
              "    </tr>\n",
              "  </thead>\n",
              "  <tbody>\n",
              "    <tr>\n",
              "      <th>0</th>\n",
              "      <td>49197</td>\n",
              "    </tr>\n",
              "  </tbody>\n",
              "</table>\n",
              "</div>"
            ],
            "text/plain": [
              "   vacancies_count\n",
              "0            49197"
            ]
          },
          "execution_count": 261,
          "metadata": {},
          "output_type": "execute_result"
        }
      ],
      "source": [
        "# результат запроса\n",
        "df = pd.read_sql_query(query_3_1, connection)\n",
        "df\n"
      ]
    },
    {
      "cell_type": "markdown",
      "id": "b583485d-1f9e-494e-ada4-80ffff7c53d6",
      "metadata": {
        "id": "b583485d-1f9e-494e-ada4-80ffff7c53d6"
      },
      "source": [
        "2. Напишите запрос, который посчитает количество работодателей (таблица employers). "
      ]
    },
    {
      "cell_type": "code",
      "execution_count": 262,
      "id": "5408c52c-3407-4a63-b25b-1aafa2322d28",
      "metadata": {
        "id": "5408c52c-3407-4a63-b25b-1aafa2322d28"
      },
      "outputs": [],
      "source": [
        "# текст запроса\n",
        "query_3_2 = f''' SELECT\n",
        "                     COUNT(id) AS employers_count\n",
        "                 FROM EMPLOYERS\n",
        "             '''\n",
        "# использовала запрос на определение количества строк в столбце id в таблице EMPLOYERS        "
      ]
    },
    {
      "cell_type": "code",
      "execution_count": 263,
      "id": "jVL4eshKhdqc",
      "metadata": {
        "id": "jVL4eshKhdqc"
      },
      "outputs": [
        {
          "data": {
            "text/html": [
              "<div>\n",
              "<style scoped>\n",
              "    .dataframe tbody tr th:only-of-type {\n",
              "        vertical-align: middle;\n",
              "    }\n",
              "\n",
              "    .dataframe tbody tr th {\n",
              "        vertical-align: top;\n",
              "    }\n",
              "\n",
              "    .dataframe thead th {\n",
              "        text-align: right;\n",
              "    }\n",
              "</style>\n",
              "<table border=\"1\" class=\"dataframe\">\n",
              "  <thead>\n",
              "    <tr style=\"text-align: right;\">\n",
              "      <th></th>\n",
              "      <th>employers_count</th>\n",
              "    </tr>\n",
              "  </thead>\n",
              "  <tbody>\n",
              "    <tr>\n",
              "      <th>0</th>\n",
              "      <td>23501</td>\n",
              "    </tr>\n",
              "  </tbody>\n",
              "</table>\n",
              "</div>"
            ],
            "text/plain": [
              "   employers_count\n",
              "0            23501"
            ]
          },
          "execution_count": 263,
          "metadata": {},
          "output_type": "execute_result"
        }
      ],
      "source": [
        "# результат запроса\n",
        "df = pd.read_sql_query(query_3_2, connection)\n",
        "df"
      ]
    },
    {
      "cell_type": "markdown",
      "id": "a2bfff1f-c975-4bf6-84be-2185d79dcb76",
      "metadata": {
        "id": "a2bfff1f-c975-4bf6-84be-2185d79dcb76"
      },
      "source": [
        "3. Посчитате с помощью запроса количество регионов (таблица areas)."
      ]
    },
    {
      "cell_type": "code",
      "execution_count": 264,
      "id": "1m8QJwBYhey6",
      "metadata": {
        "id": "1m8QJwBYhey6"
      },
      "outputs": [],
      "source": [
        "# текст запроса\n",
        "query_3_3 = f''' SELECT\n",
        "                     COUNT(DISTINCT id) AS areas_count\n",
        "                 FROM AREAS\n",
        "             '''\n",
        "# использовала запрос на определение количества уникальных строк в столбце id в таблице AREAS \n"
      ]
    },
    {
      "cell_type": "code",
      "execution_count": 265,
      "id": "EZsn9tlfhe7f",
      "metadata": {
        "id": "EZsn9tlfhe7f"
      },
      "outputs": [
        {
          "data": {
            "text/html": [
              "<div>\n",
              "<style scoped>\n",
              "    .dataframe tbody tr th:only-of-type {\n",
              "        vertical-align: middle;\n",
              "    }\n",
              "\n",
              "    .dataframe tbody tr th {\n",
              "        vertical-align: top;\n",
              "    }\n",
              "\n",
              "    .dataframe thead th {\n",
              "        text-align: right;\n",
              "    }\n",
              "</style>\n",
              "<table border=\"1\" class=\"dataframe\">\n",
              "  <thead>\n",
              "    <tr style=\"text-align: right;\">\n",
              "      <th></th>\n",
              "      <th>areas_count</th>\n",
              "    </tr>\n",
              "  </thead>\n",
              "  <tbody>\n",
              "    <tr>\n",
              "      <th>0</th>\n",
              "      <td>1362</td>\n",
              "    </tr>\n",
              "  </tbody>\n",
              "</table>\n",
              "</div>"
            ],
            "text/plain": [
              "   areas_count\n",
              "0         1362"
            ]
          },
          "execution_count": 265,
          "metadata": {},
          "output_type": "execute_result"
        }
      ],
      "source": [
        "# результат запроса\n",
        "df = pd.read_sql_query(query_3_3, connection)\n",
        "df"
      ]
    },
    {
      "cell_type": "markdown",
      "id": "41bb59f3-53cc-4a67-a5bc-bedf573955e4",
      "metadata": {
        "id": "41bb59f3-53cc-4a67-a5bc-bedf573955e4"
      },
      "source": [
        "4. Посчитате с помощью запроса количество сфер деятельности в базе (таблица industries)."
      ]
    },
    {
      "cell_type": "code",
      "execution_count": 266,
      "id": "d286cf4c-707b-4cd2-9190-7ab3587d04a1",
      "metadata": {
        "id": "d286cf4c-707b-4cd2-9190-7ab3587d04a1"
      },
      "outputs": [],
      "source": [
        "# текст запроса\n",
        "query_3_4 = f''' SELECT\n",
        "                     COUNT(DISTINCT id) AS industries_count\n",
        "                 FROM INDUSTRIES\n",
        "             '''\n",
        "# использовала запрос на определение количества уникальных строк в столбце id в таблице INDUSTRIES "
      ]
    },
    {
      "cell_type": "code",
      "execution_count": 267,
      "id": "JYAaoZ4qhfzW",
      "metadata": {
        "id": "JYAaoZ4qhfzW"
      },
      "outputs": [
        {
          "data": {
            "text/html": [
              "<div>\n",
              "<style scoped>\n",
              "    .dataframe tbody tr th:only-of-type {\n",
              "        vertical-align: middle;\n",
              "    }\n",
              "\n",
              "    .dataframe tbody tr th {\n",
              "        vertical-align: top;\n",
              "    }\n",
              "\n",
              "    .dataframe thead th {\n",
              "        text-align: right;\n",
              "    }\n",
              "</style>\n",
              "<table border=\"1\" class=\"dataframe\">\n",
              "  <thead>\n",
              "    <tr style=\"text-align: right;\">\n",
              "      <th></th>\n",
              "      <th>industries_count</th>\n",
              "    </tr>\n",
              "  </thead>\n",
              "  <tbody>\n",
              "    <tr>\n",
              "      <th>0</th>\n",
              "      <td>294</td>\n",
              "    </tr>\n",
              "  </tbody>\n",
              "</table>\n",
              "</div>"
            ],
            "text/plain": [
              "   industries_count\n",
              "0               294"
            ]
          },
          "execution_count": 267,
          "metadata": {},
          "output_type": "execute_result"
        }
      ],
      "source": [
        "# результат запроса\n",
        "df = pd.read_sql_query(query_3_4, connection)\n",
        "df"
      ]
    },
    {
      "cell_type": "markdown",
      "id": "9a8a2181-6914-448b-85f1-38f5f18b8a93",
      "metadata": {
        "id": "9a8a2181-6914-448b-85f1-38f5f18b8a93"
      },
      "source": [
        "***"
      ]
    },
    {
      "cell_type": "code",
      "execution_count": null,
      "id": "be4e9bd3-a4db-4a20-82fb-6b02fc2957e0",
      "metadata": {
        "id": "be4e9bd3-a4db-4a20-82fb-6b02fc2957e0"
      },
      "outputs": [],
      "source": [
        "# выводы по предварительному анализу данных"
      ]
    },
    {
      "attachments": {},
      "cell_type": "markdown",
      "id": "a6e74015",
      "metadata": {},
      "source": [
        "По результатам предварительного анализа данных можно сказать, что в нашей базе данных находится 49197 вакансий, 23501 работодателей. В среднем на каждого работодателя приходится 2.1 вакансий. Наша база охватывает 1362 региона и 294 сферы деятельности."
      ]
    },
    {
      "cell_type": "markdown",
      "id": "8d62a9f3-f64e-4fe7-bdac-c4dffa16155e",
      "metadata": {
        "id": "8d62a9f3-f64e-4fe7-bdac-c4dffa16155e"
      },
      "source": [
        "# Юнит 4. Детальный анализ вакансий"
      ]
    },
    {
      "cell_type": "markdown",
      "id": "93053d3d-b284-481a-9cf7-012d7014c0e0",
      "metadata": {
        "id": "93053d3d-b284-481a-9cf7-012d7014c0e0"
      },
      "source": [
        "1. Напишите запрос, который позволит узнать, сколько (cnt) вакансий в каждом регионе (area).\n",
        "Отсортируйте по количеству вакансий в порядке убывания."
      ]
    },
    {
      "cell_type": "code",
      "execution_count": 268,
      "id": "3f069da6-fdc9-4ae7-b514-fafe2675efd3",
      "metadata": {
        "id": "3f069da6-fdc9-4ae7-b514-fafe2675efd3"
      },
      "outputs": [],
      "source": [
        "# текст запроса\n",
        "query_4_1 = f''' SELECT\n",
        "                     COUNT(v.id) AS count_vacancies,\n",
        "                     a.name AS name_areas\n",
        "                 FROM VACANCIES v\n",
        "                 JOIN AREAS a ON a.id = v.area_id\n",
        "                 GROUP BY name_areas\n",
        "                 ORDER BY count_vacancies DESC\n",
        "             '''\n",
        "# для определения количество вакансий использовала запрос на количества строк в столбце id таблицы VACANCIES\n",
        "# таблицы VACANCIES и AREAS объединила методом JOIN\n",
        "# чтобы получить число вакансий в каждом регионе, сделала группировку по столбцу name из таблицы AREAS\n",
        "# для отсортировки по убыванию использовала созданный мной столбец count_vacancies"
      ]
    },
    {
      "cell_type": "code",
      "execution_count": 269,
      "id": "P7QL86hrjhRJ",
      "metadata": {
        "id": "P7QL86hrjhRJ"
      },
      "outputs": [
        {
          "data": {
            "text/html": [
              "<div>\n",
              "<style scoped>\n",
              "    .dataframe tbody tr th:only-of-type {\n",
              "        vertical-align: middle;\n",
              "    }\n",
              "\n",
              "    .dataframe tbody tr th {\n",
              "        vertical-align: top;\n",
              "    }\n",
              "\n",
              "    .dataframe thead th {\n",
              "        text-align: right;\n",
              "    }\n",
              "</style>\n",
              "<table border=\"1\" class=\"dataframe\">\n",
              "  <thead>\n",
              "    <tr style=\"text-align: right;\">\n",
              "      <th></th>\n",
              "      <th>count_vacancies</th>\n",
              "      <th>name_areas</th>\n",
              "    </tr>\n",
              "  </thead>\n",
              "  <tbody>\n",
              "    <tr>\n",
              "      <th>0</th>\n",
              "      <td>5333</td>\n",
              "      <td>Москва</td>\n",
              "    </tr>\n",
              "    <tr>\n",
              "      <th>1</th>\n",
              "      <td>2851</td>\n",
              "      <td>Санкт-Петербург</td>\n",
              "    </tr>\n",
              "    <tr>\n",
              "      <th>2</th>\n",
              "      <td>2112</td>\n",
              "      <td>Минск</td>\n",
              "    </tr>\n",
              "    <tr>\n",
              "      <th>3</th>\n",
              "      <td>2006</td>\n",
              "      <td>Новосибирск</td>\n",
              "    </tr>\n",
              "    <tr>\n",
              "      <th>4</th>\n",
              "      <td>1892</td>\n",
              "      <td>Алматы</td>\n",
              "    </tr>\n",
              "    <tr>\n",
              "      <th>...</th>\n",
              "      <td>...</td>\n",
              "      <td>...</td>\n",
              "    </tr>\n",
              "    <tr>\n",
              "      <th>764</th>\n",
              "      <td>1</td>\n",
              "      <td>Тарко-Сале</td>\n",
              "    </tr>\n",
              "    <tr>\n",
              "      <th>765</th>\n",
              "      <td>1</td>\n",
              "      <td>Новоаннинский</td>\n",
              "    </tr>\n",
              "    <tr>\n",
              "      <th>766</th>\n",
              "      <td>1</td>\n",
              "      <td>Бирск</td>\n",
              "    </tr>\n",
              "    <tr>\n",
              "      <th>767</th>\n",
              "      <td>1</td>\n",
              "      <td>Сасово</td>\n",
              "    </tr>\n",
              "    <tr>\n",
              "      <th>768</th>\n",
              "      <td>1</td>\n",
              "      <td>Анна</td>\n",
              "    </tr>\n",
              "  </tbody>\n",
              "</table>\n",
              "<p>769 rows × 2 columns</p>\n",
              "</div>"
            ],
            "text/plain": [
              "     count_vacancies       name_areas\n",
              "0               5333           Москва\n",
              "1               2851  Санкт-Петербург\n",
              "2               2112            Минск\n",
              "3               2006      Новосибирск\n",
              "4               1892           Алматы\n",
              "..               ...              ...\n",
              "764                1       Тарко-Сале\n",
              "765                1    Новоаннинский\n",
              "766                1            Бирск\n",
              "767                1           Сасово\n",
              "768                1             Анна\n",
              "\n",
              "[769 rows x 2 columns]"
            ]
          },
          "execution_count": 269,
          "metadata": {},
          "output_type": "execute_result"
        }
      ],
      "source": [
        "# результат запроса\n",
        "df = pd.read_sql_query(query_4_1, connection)\n",
        "df"
      ]
    },
    {
      "cell_type": "markdown",
      "id": "4266f0b6-1646-492a-88b4-2f6a46502135",
      "metadata": {
        "id": "4266f0b6-1646-492a-88b4-2f6a46502135"
      },
      "source": [
        "2. Напишите запрос, чтобы определить у какого количества вакансий заполнено хотя бы одно из двух полей с зарплатой."
      ]
    },
    {
      "cell_type": "code",
      "execution_count": 270,
      "id": "0c44b350-72eb-4d65-8b54-a1fc449ba9fd",
      "metadata": {
        "id": "0c44b350-72eb-4d65-8b54-a1fc449ba9fd"
      },
      "outputs": [],
      "source": [
        "# текст запроса\n",
        "query_4_2 = f''' SELECT\n",
        "                     COUNT(v.id) AS number_vacancies\n",
        "                 FROM VACANCIES v\n",
        "                 WHERE salary_from IS NOT NULL\n",
        "                 OR salary_to IS NOT NULL\n",
        "             '''\n",
        "# для определения количество вакансий использовала запрос на определение количества строк в столбце id в таблице VACANCIES\n",
        "# чтобы получить число вакансий с заполненной хотя бы одной из полей с зарплатой, применила условие, \n",
        "# что salary_from или salary_to не являются пустыми"
      ]
    },
    {
      "cell_type": "code",
      "execution_count": 271,
      "id": "rhvwaMDkoWTi",
      "metadata": {
        "id": "rhvwaMDkoWTi"
      },
      "outputs": [
        {
          "data": {
            "text/html": [
              "<div>\n",
              "<style scoped>\n",
              "    .dataframe tbody tr th:only-of-type {\n",
              "        vertical-align: middle;\n",
              "    }\n",
              "\n",
              "    .dataframe tbody tr th {\n",
              "        vertical-align: top;\n",
              "    }\n",
              "\n",
              "    .dataframe thead th {\n",
              "        text-align: right;\n",
              "    }\n",
              "</style>\n",
              "<table border=\"1\" class=\"dataframe\">\n",
              "  <thead>\n",
              "    <tr style=\"text-align: right;\">\n",
              "      <th></th>\n",
              "      <th>number_vacancies</th>\n",
              "    </tr>\n",
              "  </thead>\n",
              "  <tbody>\n",
              "    <tr>\n",
              "      <th>0</th>\n",
              "      <td>24073</td>\n",
              "    </tr>\n",
              "  </tbody>\n",
              "</table>\n",
              "</div>"
            ],
            "text/plain": [
              "   number_vacancies\n",
              "0             24073"
            ]
          },
          "execution_count": 271,
          "metadata": {},
          "output_type": "execute_result"
        }
      ],
      "source": [
        "# результат запроса\n",
        "df = pd.read_sql_query(query_4_2, connection)\n",
        "df"
      ]
    },
    {
      "cell_type": "markdown",
      "id": "635c4d5d-f323-4c66-b428-50a088120aa0",
      "metadata": {
        "id": "635c4d5d-f323-4c66-b428-50a088120aa0"
      },
      "source": [
        "3. Найдите средние значения для нижней и верхней границы зарплатной вилки. Округлите значения до целого."
      ]
    },
    {
      "cell_type": "code",
      "execution_count": 272,
      "id": "603cdbe4-0ec3-4106-8eaf-c73fcdd29165",
      "metadata": {
        "id": "603cdbe4-0ec3-4106-8eaf-c73fcdd29165"
      },
      "outputs": [],
      "source": [
        "# текст запроса\n",
        "query_4_3 = f''' SELECT\n",
        "                     round(AVG(salary_from)) AS lower_salary_limit,\n",
        "                     round(AVG(salary_to)) AS upper_salary_limit\n",
        "                 FROM VACANCIES \n",
        "            '''\n",
        "# использовала запрос для определения среднего значения нижней и верхней таблицы использую столбцы salary_from и salary_to соответственно из таб. VACANCIES \n",
        "# для округления применила round"
      ]
    },
    {
      "cell_type": "code",
      "execution_count": 273,
      "id": "pswpAb66ovZZ",
      "metadata": {
        "id": "pswpAb66ovZZ"
      },
      "outputs": [
        {
          "data": {
            "text/html": [
              "<div>\n",
              "<style scoped>\n",
              "    .dataframe tbody tr th:only-of-type {\n",
              "        vertical-align: middle;\n",
              "    }\n",
              "\n",
              "    .dataframe tbody tr th {\n",
              "        vertical-align: top;\n",
              "    }\n",
              "\n",
              "    .dataframe thead th {\n",
              "        text-align: right;\n",
              "    }\n",
              "</style>\n",
              "<table border=\"1\" class=\"dataframe\">\n",
              "  <thead>\n",
              "    <tr style=\"text-align: right;\">\n",
              "      <th></th>\n",
              "      <th>lower_salary_limit</th>\n",
              "      <th>upper_salary_limit</th>\n",
              "    </tr>\n",
              "  </thead>\n",
              "  <tbody>\n",
              "    <tr>\n",
              "      <th>0</th>\n",
              "      <td>71065.0</td>\n",
              "      <td>110537.0</td>\n",
              "    </tr>\n",
              "  </tbody>\n",
              "</table>\n",
              "</div>"
            ],
            "text/plain": [
              "   lower_salary_limit  upper_salary_limit\n",
              "0             71065.0            110537.0"
            ]
          },
          "execution_count": 273,
          "metadata": {},
          "output_type": "execute_result"
        }
      ],
      "source": [
        "# результат запроса\n",
        "df = pd.read_sql_query(query_4_3, connection)\n",
        "df"
      ]
    },
    {
      "cell_type": "markdown",
      "id": "f3fdaec9-5fd3-4260-9cf5-1d7406b628a5",
      "metadata": {
        "id": "f3fdaec9-5fd3-4260-9cf5-1d7406b628a5"
      },
      "source": [
        "4. Напишите запрос, который выведет количество вакансий для каждого сочетания типа рабочего графика (schedule) и типа трудоустройства (employment), используемого в вакансиях. Результат отсортируйте по убыванию количества.\n"
      ]
    },
    {
      "cell_type": "code",
      "execution_count": 274,
      "id": "1ea710ec-871b-431e-9462-c7d0fd87011b",
      "metadata": {
        "id": "1ea710ec-871b-431e-9462-c7d0fd87011b"
      },
      "outputs": [],
      "source": [
        "# текст запроса\n",
        "query_4_4 = f''' SELECT\n",
        "                     COUNT(id) AS vacancies_number,\n",
        "                     schedule,\n",
        "                    employment\n",
        "                 FROM VACANCIES\n",
        "                 GROUP BY schedule, employment\n",
        "                 ORDER BY vacancies_number DESC\n",
        "             '''\n",
        "# использовала запрос для определения количества вакансий использую столбец id из таб. VACANCIES \n",
        "# для определения количества вакансий для сочетаний типа рабочего графика и типа трудоустройства группировала по столбцам schedule, employment \n",
        "# отсортировала запрос по убыванию используя созданный в запросе столбец vacancies_number"
      ]
    },
    {
      "cell_type": "code",
      "execution_count": 275,
      "id": "lGUVqavdo4JQ",
      "metadata": {
        "id": "lGUVqavdo4JQ"
      },
      "outputs": [
        {
          "data": {
            "text/html": [
              "<div>\n",
              "<style scoped>\n",
              "    .dataframe tbody tr th:only-of-type {\n",
              "        vertical-align: middle;\n",
              "    }\n",
              "\n",
              "    .dataframe tbody tr th {\n",
              "        vertical-align: top;\n",
              "    }\n",
              "\n",
              "    .dataframe thead th {\n",
              "        text-align: right;\n",
              "    }\n",
              "</style>\n",
              "<table border=\"1\" class=\"dataframe\">\n",
              "  <thead>\n",
              "    <tr style=\"text-align: right;\">\n",
              "      <th></th>\n",
              "      <th>vacancies_number</th>\n",
              "      <th>schedule</th>\n",
              "      <th>employment</th>\n",
              "    </tr>\n",
              "  </thead>\n",
              "  <tbody>\n",
              "    <tr>\n",
              "      <th>0</th>\n",
              "      <td>35367</td>\n",
              "      <td>Полный день</td>\n",
              "      <td>Полная занятость</td>\n",
              "    </tr>\n",
              "    <tr>\n",
              "      <th>1</th>\n",
              "      <td>7802</td>\n",
              "      <td>Удаленная работа</td>\n",
              "      <td>Полная занятость</td>\n",
              "    </tr>\n",
              "    <tr>\n",
              "      <th>2</th>\n",
              "      <td>1593</td>\n",
              "      <td>Гибкий график</td>\n",
              "      <td>Полная занятость</td>\n",
              "    </tr>\n",
              "    <tr>\n",
              "      <th>3</th>\n",
              "      <td>1312</td>\n",
              "      <td>Удаленная работа</td>\n",
              "      <td>Частичная занятость</td>\n",
              "    </tr>\n",
              "    <tr>\n",
              "      <th>4</th>\n",
              "      <td>940</td>\n",
              "      <td>Сменный график</td>\n",
              "      <td>Полная занятость</td>\n",
              "    </tr>\n",
              "    <tr>\n",
              "      <th>5</th>\n",
              "      <td>569</td>\n",
              "      <td>Полный день</td>\n",
              "      <td>Стажировка</td>\n",
              "    </tr>\n",
              "    <tr>\n",
              "      <th>6</th>\n",
              "      <td>367</td>\n",
              "      <td>Вахтовый метод</td>\n",
              "      <td>Полная занятость</td>\n",
              "    </tr>\n",
              "    <tr>\n",
              "      <th>7</th>\n",
              "      <td>347</td>\n",
              "      <td>Полный день</td>\n",
              "      <td>Частичная занятость</td>\n",
              "    </tr>\n",
              "    <tr>\n",
              "      <th>8</th>\n",
              "      <td>312</td>\n",
              "      <td>Гибкий график</td>\n",
              "      <td>Частичная занятость</td>\n",
              "    </tr>\n",
              "    <tr>\n",
              "      <th>9</th>\n",
              "      <td>141</td>\n",
              "      <td>Полный день</td>\n",
              "      <td>Проектная работа</td>\n",
              "    </tr>\n",
              "    <tr>\n",
              "      <th>10</th>\n",
              "      <td>133</td>\n",
              "      <td>Удаленная работа</td>\n",
              "      <td>Проектная работа</td>\n",
              "    </tr>\n",
              "    <tr>\n",
              "      <th>11</th>\n",
              "      <td>116</td>\n",
              "      <td>Гибкий график</td>\n",
              "      <td>Стажировка</td>\n",
              "    </tr>\n",
              "    <tr>\n",
              "      <th>12</th>\n",
              "      <td>101</td>\n",
              "      <td>Сменный график</td>\n",
              "      <td>Частичная занятость</td>\n",
              "    </tr>\n",
              "    <tr>\n",
              "      <th>13</th>\n",
              "      <td>64</td>\n",
              "      <td>Удаленная работа</td>\n",
              "      <td>Стажировка</td>\n",
              "    </tr>\n",
              "    <tr>\n",
              "      <th>14</th>\n",
              "      <td>18</td>\n",
              "      <td>Гибкий график</td>\n",
              "      <td>Проектная работа</td>\n",
              "    </tr>\n",
              "    <tr>\n",
              "      <th>15</th>\n",
              "      <td>12</td>\n",
              "      <td>Сменный график</td>\n",
              "      <td>Стажировка</td>\n",
              "    </tr>\n",
              "    <tr>\n",
              "      <th>16</th>\n",
              "      <td>2</td>\n",
              "      <td>Вахтовый метод</td>\n",
              "      <td>Проектная работа</td>\n",
              "    </tr>\n",
              "    <tr>\n",
              "      <th>17</th>\n",
              "      <td>1</td>\n",
              "      <td>Сменный график</td>\n",
              "      <td>Проектная работа</td>\n",
              "    </tr>\n",
              "  </tbody>\n",
              "</table>\n",
              "</div>"
            ],
            "text/plain": [
              "    vacancies_number          schedule           employment\n",
              "0              35367       Полный день     Полная занятость\n",
              "1               7802  Удаленная работа     Полная занятость\n",
              "2               1593     Гибкий график     Полная занятость\n",
              "3               1312  Удаленная работа  Частичная занятость\n",
              "4                940    Сменный график     Полная занятость\n",
              "5                569       Полный день           Стажировка\n",
              "6                367    Вахтовый метод     Полная занятость\n",
              "7                347       Полный день  Частичная занятость\n",
              "8                312     Гибкий график  Частичная занятость\n",
              "9                141       Полный день     Проектная работа\n",
              "10               133  Удаленная работа     Проектная работа\n",
              "11               116     Гибкий график           Стажировка\n",
              "12               101    Сменный график  Частичная занятость\n",
              "13                64  Удаленная работа           Стажировка\n",
              "14                18     Гибкий график     Проектная работа\n",
              "15                12    Сменный график           Стажировка\n",
              "16                 2    Вахтовый метод     Проектная работа\n",
              "17                 1    Сменный график     Проектная работа"
            ]
          },
          "execution_count": 275,
          "metadata": {},
          "output_type": "execute_result"
        }
      ],
      "source": [
        "# результат запроса\n",
        "df = pd.read_sql_query(query_4_4, connection)\n",
        "df"
      ]
    },
    {
      "cell_type": "markdown",
      "id": "0136ffee-0ead-4a6b-b608-61d1c753a438",
      "metadata": {
        "id": "0136ffee-0ead-4a6b-b608-61d1c753a438"
      },
      "source": [
        "5. Напишите запрос, выводящий значения поля Требуемый опыт работы (experience) в порядке возрастания количества вакансий, в которых указан данный вариант опыта. "
      ]
    },
    {
      "cell_type": "code",
      "execution_count": 276,
      "id": "5b3a8e79-f7ab-4008-b767-12aea3a205ea",
      "metadata": {
        "id": "5b3a8e79-f7ab-4008-b767-12aea3a205ea"
      },
      "outputs": [],
      "source": [
        "# текст запроса\n",
        "query_4_5 = f''' SELECT\n",
        "                     experience,\n",
        "                     COUNT(id) AS count_vacancies\n",
        "                 FROM VACANCIES\n",
        "                 GROUP BY experience\n",
        "                 ORDER BY count_vacancies\n",
        "\n",
        "             '''\n",
        "# использовала запрос для определения количества вакансий использую столбец id из таб. VACANCIES \n",
        "# для определения количества вакансий для каждого требуемого опыта работы группировала по столбцам experience\n",
        "# отсортировала запрос по возрастанию используя созданный в запросе столбец count_vacancies"
      ]
    },
    {
      "cell_type": "code",
      "execution_count": 277,
      "id": "3Is64Y-hpDpq",
      "metadata": {
        "id": "3Is64Y-hpDpq"
      },
      "outputs": [
        {
          "data": {
            "text/html": [
              "<div>\n",
              "<style scoped>\n",
              "    .dataframe tbody tr th:only-of-type {\n",
              "        vertical-align: middle;\n",
              "    }\n",
              "\n",
              "    .dataframe tbody tr th {\n",
              "        vertical-align: top;\n",
              "    }\n",
              "\n",
              "    .dataframe thead th {\n",
              "        text-align: right;\n",
              "    }\n",
              "</style>\n",
              "<table border=\"1\" class=\"dataframe\">\n",
              "  <thead>\n",
              "    <tr style=\"text-align: right;\">\n",
              "      <th></th>\n",
              "      <th>experience</th>\n",
              "      <th>count_vacancies</th>\n",
              "    </tr>\n",
              "  </thead>\n",
              "  <tbody>\n",
              "    <tr>\n",
              "      <th>0</th>\n",
              "      <td>Более 6 лет</td>\n",
              "      <td>1337</td>\n",
              "    </tr>\n",
              "    <tr>\n",
              "      <th>1</th>\n",
              "      <td>Нет опыта</td>\n",
              "      <td>7197</td>\n",
              "    </tr>\n",
              "    <tr>\n",
              "      <th>2</th>\n",
              "      <td>От 3 до 6 лет</td>\n",
              "      <td>14511</td>\n",
              "    </tr>\n",
              "    <tr>\n",
              "      <th>3</th>\n",
              "      <td>От 1 года до 3 лет</td>\n",
              "      <td>26152</td>\n",
              "    </tr>\n",
              "  </tbody>\n",
              "</table>\n",
              "</div>"
            ],
            "text/plain": [
              "           experience  count_vacancies\n",
              "0         Более 6 лет             1337\n",
              "1           Нет опыта             7197\n",
              "2       От 3 до 6 лет            14511\n",
              "3  От 1 года до 3 лет            26152"
            ]
          },
          "execution_count": 277,
          "metadata": {},
          "output_type": "execute_result"
        }
      ],
      "source": [
        "# результат запроса\n",
        "df = pd.read_sql_query(query_4_5, connection)\n",
        "df"
      ]
    },
    {
      "cell_type": "markdown",
      "id": "oq2b7n1QpIka",
      "metadata": {
        "id": "oq2b7n1QpIka"
      },
      "source": [
        "***"
      ]
    },
    {
      "cell_type": "code",
      "execution_count": null,
      "id": "e91f87ed-e25c-4f96-9f92-b642e8c0b4fa",
      "metadata": {
        "id": "e91f87ed-e25c-4f96-9f92-b642e8c0b4fa"
      },
      "outputs": [],
      "source": [
        "# выводы по детальному анализу вакансий"
      ]
    },
    {
      "attachments": {},
      "cell_type": "markdown",
      "id": "6e899b86",
      "metadata": {},
      "source": [
        "- Из данных видно, что больше всего вакансий в крупных городах Москва, Санкт-Петербург, Новосибирск. Это связано с тем, что в крупных городах, как правило, больше рабочих мест, а так же много потенциальных работников. Еще крупные города, обычно, быстрее развиваются, и в них появляются новые рабочие места. Так же много вакансий предлагают крупные города из других стран Минск (Беларусь), Алматы(Казахстан). Возможно, это связано с тем, что наши работники ценятся как специалисты, а так же наш язык понимает местное население.\n",
        "- По результатам детального анализа вакансий можно сказать, что только у 24073 из 49197 вакансий заполнено хотя бы одно из двух полей с зарплатой. Это значит, меньше чем 50% потенциальный работник знают на какую примерно зарплату они могут рассчитывать. Данный результат не очень хороший. Стоит объяснить работодателям, что нужно заполнять информацию о зарплате. Таким образом, работнику будет проще определиться с вакансией, а к работодателю будут приходить люди, которые готовы работать за указанную им зарплату.\n",
        "- Средние значения для нижней и верхней границы зарплатной вилки равны 71065 и 110537 соответственно. Представленные данные не несут большой информативности, так как для каждой профессии и региона будут свои границы вилки. В добавок, больше чем у половины вакансий не указана зарплата, что так же снижает полезность данного запроса.\n",
        "- Из данных можно сделать вывод, что самое популярное сочетания типа рабочего графика и типа трудоустройства это \"Полный день — Полная занятость\", количество вакансий равно 35367. На втором месте идет \"Удалённая работа — Полная занятость\" 7802 вакансии. На третьем месте \"Гибкий график — Полная занятость\" 1593 вакансии. Видно, что большинство работодателей ищут работников на полную занятость. На данный момент, появилось много вакансий на удаленную работу, но пока предпочтительней работа в \"офисе\".\n",
        "- По данным видно, что больше всего работодатели ищут себе специалистов с опытом от 1 до 3, и от 3 до 6 лет, вакансий предлагают 26152 и 14511 соответственно. Это связано с желанием взять себе на работу человека со сформировавшимися профессиональными навыками. Не нужен опыта в начале для 7197 вакансий. Меньше всего вакансий для людей с опытом более 6 лет. Скорее всего, это связанно с тем, что такой большой опыт нужен не для всех должностей. Но человек с таким опытом спокойно найдет себе работу и среди вакансий, где нужно меньшее количество лет."
      ]
    },
    {
      "cell_type": "markdown",
      "id": "7ea20ab6-04a7-40a0-adec-443a0e5a42c3",
      "metadata": {
        "id": "7ea20ab6-04a7-40a0-adec-443a0e5a42c3"
      },
      "source": [
        "# Юнит 5. Анализ работодателей"
      ]
    },
    {
      "cell_type": "markdown",
      "id": "968aed80-74ef-4ffb-b5bf-c65b84e9caea",
      "metadata": {
        "id": "968aed80-74ef-4ffb-b5bf-c65b84e9caea"
      },
      "source": [
        "1. Напишите запрос, который позволит узнать, какие работодатели находятся на первом и пятом месте по количеству вакансий."
      ]
    },
    {
      "cell_type": "code",
      "execution_count": 278,
      "id": "f2d62796-d400-4ec1-a675-88112739a50e",
      "metadata": {
        "id": "f2d62796-d400-4ec1-a675-88112739a50e"
      },
      "outputs": [],
      "source": [
        "# текст запроса\n",
        "query_5_1 = f'''SELECT\n",
        "                     e.name AS name_employers,\n",
        "                     COUNT(v.id) AS vacancies_count\n",
        "                 FROM VACANCIES v\n",
        "                 JOIN EMPLOYERS e ON e.id = v.employer_id\n",
        "                 GROUP BY name_employers\n",
        "                 ORDER BY vacancies_count DESC\n",
        "                 LIMIT 5\n",
        "             '''\n",
        "# использовала запрос для определения количества вакансий использую столбец id из таб. VACANCIES \n",
        "# таблицы VACANCIES и EMPLOYERS объединила методом JOIN\n",
        "# для определения количества вакансий для каждого работодателя группировала по столбцу name_employers\n",
        "# отсортировала запрос по убыванию используя созданный в запросе столбец vacancies_count \n",
        "# использовала лимит при отображении результата равны 5"
      ]
    },
    {
      "cell_type": "code",
      "execution_count": 279,
      "id": "64tOMkAxqkQk",
      "metadata": {
        "id": "64tOMkAxqkQk"
      },
      "outputs": [
        {
          "data": {
            "text/html": [
              "<div>\n",
              "<style scoped>\n",
              "    .dataframe tbody tr th:only-of-type {\n",
              "        vertical-align: middle;\n",
              "    }\n",
              "\n",
              "    .dataframe tbody tr th {\n",
              "        vertical-align: top;\n",
              "    }\n",
              "\n",
              "    .dataframe thead th {\n",
              "        text-align: right;\n",
              "    }\n",
              "</style>\n",
              "<table border=\"1\" class=\"dataframe\">\n",
              "  <thead>\n",
              "    <tr style=\"text-align: right;\">\n",
              "      <th></th>\n",
              "      <th>name_employers</th>\n",
              "      <th>vacancies_count</th>\n",
              "    </tr>\n",
              "  </thead>\n",
              "  <tbody>\n",
              "    <tr>\n",
              "      <th>0</th>\n",
              "      <td>Яндекс</td>\n",
              "      <td>1933</td>\n",
              "    </tr>\n",
              "    <tr>\n",
              "      <th>1</th>\n",
              "      <td>Ростелеком</td>\n",
              "      <td>491</td>\n",
              "    </tr>\n",
              "    <tr>\n",
              "      <th>2</th>\n",
              "      <td>Тинькофф</td>\n",
              "      <td>444</td>\n",
              "    </tr>\n",
              "    <tr>\n",
              "      <th>3</th>\n",
              "      <td>СБЕР</td>\n",
              "      <td>428</td>\n",
              "    </tr>\n",
              "    <tr>\n",
              "      <th>4</th>\n",
              "      <td>Газпром нефть</td>\n",
              "      <td>331</td>\n",
              "    </tr>\n",
              "  </tbody>\n",
              "</table>\n",
              "</div>"
            ],
            "text/plain": [
              "  name_employers  vacancies_count\n",
              "0         Яндекс             1933\n",
              "1     Ростелеком              491\n",
              "2       Тинькофф              444\n",
              "3           СБЕР              428\n",
              "4  Газпром нефть              331"
            ]
          },
          "execution_count": 279,
          "metadata": {},
          "output_type": "execute_result"
        }
      ],
      "source": [
        "# результат запроса\n",
        "df = pd.read_sql_query(query_5_1, connection)\n",
        "df"
      ]
    },
    {
      "cell_type": "markdown",
      "id": "68377cfc-b378-43dc-ab7d-1195abf2c515",
      "metadata": {
        "id": "68377cfc-b378-43dc-ab7d-1195abf2c515"
      },
      "source": [
        "2. Напишите запрос, который для каждого региона выведет количество работодателей и вакансий в нём.\n",
        "Среди регионов, в которых нет вакансий, найдите тот, в котором наибольшее количество работодателей.\n"
      ]
    },
    {
      "cell_type": "code",
      "execution_count": 280,
      "id": "dd7df27a-e3e8-412e-a21a-5d389b71e891",
      "metadata": {
        "id": "dd7df27a-e3e8-412e-a21a-5d389b71e891"
      },
      "outputs": [],
      "source": [
        "# текст запроса\n",
        "query_5_2 = f''' SELECT\n",
        "                     a.name AS name_areas,\n",
        "                    COUNT(distinct e.id) AS employers_count,\n",
        "                    COUNT(distinct v.id) AS vakancies_count\n",
        "                 FROM AREAS a\n",
        "                 LEFT JOIN  EMPLOYERS e ON a.id = e.area\n",
        "                 LEFT JOIN VACANCIES v ON a.id = v.area_id\n",
        "                 WHERE v.id IS null\n",
        "                 AND e.id IS NOT NULL\n",
        "                 GROUP BY name_areas\n",
        "                 ORDER BY employers_count DESC\n",
        "            '''\n",
        "# использовала запрос для определения количества работодателей и вакансий используя столбец id из таб.EMPLOYERS и столбец id из таб. VACANCIES соответственно\n",
        "# таблицы AREAS, EMPLOYERS, VACANCIES объединила методом LEFT JOIN\n",
        "# применила условие, что вакансий равны пустому значению, а работодатели не должны быть равны пустому значению\n",
        "# для определения количества работодателей и вакансий для каждого региона группировала по столбцу name_areas\n",
        "# отсортировала запрос по убыванию используя созданный в запросе столбец  employers_count "
      ]
    },
    {
      "cell_type": "code",
      "execution_count": 281,
      "id": "x1ikWbydrbf6",
      "metadata": {
        "id": "x1ikWbydrbf6"
      },
      "outputs": [
        {
          "data": {
            "text/html": [
              "<div>\n",
              "<style scoped>\n",
              "    .dataframe tbody tr th:only-of-type {\n",
              "        vertical-align: middle;\n",
              "    }\n",
              "\n",
              "    .dataframe tbody tr th {\n",
              "        vertical-align: top;\n",
              "    }\n",
              "\n",
              "    .dataframe thead th {\n",
              "        text-align: right;\n",
              "    }\n",
              "</style>\n",
              "<table border=\"1\" class=\"dataframe\">\n",
              "  <thead>\n",
              "    <tr style=\"text-align: right;\">\n",
              "      <th></th>\n",
              "      <th>name_areas</th>\n",
              "      <th>employers_count</th>\n",
              "      <th>vakancies_count</th>\n",
              "    </tr>\n",
              "  </thead>\n",
              "  <tbody>\n",
              "    <tr>\n",
              "      <th>0</th>\n",
              "      <td>Россия</td>\n",
              "      <td>410</td>\n",
              "      <td>0</td>\n",
              "    </tr>\n",
              "    <tr>\n",
              "      <th>1</th>\n",
              "      <td>Казахстан</td>\n",
              "      <td>207</td>\n",
              "      <td>0</td>\n",
              "    </tr>\n",
              "    <tr>\n",
              "      <th>2</th>\n",
              "      <td>Московская область</td>\n",
              "      <td>75</td>\n",
              "      <td>0</td>\n",
              "    </tr>\n",
              "    <tr>\n",
              "      <th>3</th>\n",
              "      <td>Краснодарский край</td>\n",
              "      <td>19</td>\n",
              "      <td>0</td>\n",
              "    </tr>\n",
              "    <tr>\n",
              "      <th>4</th>\n",
              "      <td>Беларусь</td>\n",
              "      <td>18</td>\n",
              "      <td>0</td>\n",
              "    </tr>\n",
              "    <tr>\n",
              "      <th>...</th>\n",
              "      <td>...</td>\n",
              "      <td>...</td>\n",
              "      <td>...</td>\n",
              "    </tr>\n",
              "    <tr>\n",
              "      <th>181</th>\n",
              "      <td>Миллерово</td>\n",
              "      <td>1</td>\n",
              "      <td>0</td>\n",
              "    </tr>\n",
              "    <tr>\n",
              "      <th>182</th>\n",
              "      <td>Михайловка (Уфимский район, Башкортостан)</td>\n",
              "      <td>1</td>\n",
              "      <td>0</td>\n",
              "    </tr>\n",
              "    <tr>\n",
              "      <th>183</th>\n",
              "      <td>Можайск</td>\n",
              "      <td>1</td>\n",
              "      <td>0</td>\n",
              "    </tr>\n",
              "    <tr>\n",
              "      <th>184</th>\n",
              "      <td>Морозовск\\n</td>\n",
              "      <td>1</td>\n",
              "      <td>0</td>\n",
              "    </tr>\n",
              "    <tr>\n",
              "      <th>185</th>\n",
              "      <td>Несвиж</td>\n",
              "      <td>1</td>\n",
              "      <td>0</td>\n",
              "    </tr>\n",
              "  </tbody>\n",
              "</table>\n",
              "<p>186 rows × 3 columns</p>\n",
              "</div>"
            ],
            "text/plain": [
              "                                    name_areas  employers_count  \\\n",
              "0                                       Россия              410   \n",
              "1                                    Казахстан              207   \n",
              "2                           Московская область               75   \n",
              "3                           Краснодарский край               19   \n",
              "4                                     Беларусь               18   \n",
              "..                                         ...              ...   \n",
              "181                                  Миллерово                1   \n",
              "182  Михайловка (Уфимский район, Башкортостан)                1   \n",
              "183                                    Можайск                1   \n",
              "184                                Морозовск\\n                1   \n",
              "185                                     Несвиж                1   \n",
              "\n",
              "     vakancies_count  \n",
              "0                  0  \n",
              "1                  0  \n",
              "2                  0  \n",
              "3                  0  \n",
              "4                  0  \n",
              "..               ...  \n",
              "181                0  \n",
              "182                0  \n",
              "183                0  \n",
              "184                0  \n",
              "185                0  \n",
              "\n",
              "[186 rows x 3 columns]"
            ]
          },
          "execution_count": 281,
          "metadata": {},
          "output_type": "execute_result"
        }
      ],
      "source": [
        "# результат запроса\n",
        "df = pd.read_sql_query(query_5_2, connection)\n",
        "df"
      ]
    },
    {
      "cell_type": "markdown",
      "id": "f2fe0acb-ab1a-4e15-9326-2560e22d73c1",
      "metadata": {
        "id": "f2fe0acb-ab1a-4e15-9326-2560e22d73c1"
      },
      "source": [
        "3. Для каждого работодателя посчитайте количество регионов, в которых он публикует свои вакансии. Отсортируйте результат по убыванию количества.\n"
      ]
    },
    {
      "cell_type": "code",
      "execution_count": 282,
      "id": "6271f8ad-bd2e-4196-ae4a-5b39c4c1010e",
      "metadata": {
        "id": "6271f8ad-bd2e-4196-ae4a-5b39c4c1010e"
      },
      "outputs": [],
      "source": [
        "# текст запроса\n",
        "query_5_3 = f''' SELECT\n",
        "                     e.name AS employers_name,\n",
        "                     COUNT(distinct v.area_id) AS count_area\n",
        "                 FROM EMPLOYERS e\n",
        "                 JOIN VACANCIES v ON e.id = employer_id\n",
        "                 GROUP BY employers_name\n",
        "                 ORDER BY count_area DESC\n",
        "            '''\n",
        "# использовала запрос для определения количества уникальных регионов, в которых работодатель публикует вакансии используя столбец area_id из таб.VACANCIES\n",
        "# таблицы EMPLOYERS и VACANCIES объединила методом JOIN\n",
        "# для определения количества уникальных регионов для каждого работодателя группировала по созданному столбцу employers_name\n",
        "# отсортировала запрос по убыванию используя созданный в запросе столбец count_area"
      ]
    },
    {
      "cell_type": "code",
      "execution_count": 283,
      "id": "1EIvX3HasH4F",
      "metadata": {
        "id": "1EIvX3HasH4F"
      },
      "outputs": [
        {
          "data": {
            "text/html": [
              "<div>\n",
              "<style scoped>\n",
              "    .dataframe tbody tr th:only-of-type {\n",
              "        vertical-align: middle;\n",
              "    }\n",
              "\n",
              "    .dataframe tbody tr th {\n",
              "        vertical-align: top;\n",
              "    }\n",
              "\n",
              "    .dataframe thead th {\n",
              "        text-align: right;\n",
              "    }\n",
              "</style>\n",
              "<table border=\"1\" class=\"dataframe\">\n",
              "  <thead>\n",
              "    <tr style=\"text-align: right;\">\n",
              "      <th></th>\n",
              "      <th>employers_name</th>\n",
              "      <th>count_area</th>\n",
              "    </tr>\n",
              "  </thead>\n",
              "  <tbody>\n",
              "    <tr>\n",
              "      <th>0</th>\n",
              "      <td>Яндекс</td>\n",
              "      <td>181</td>\n",
              "    </tr>\n",
              "    <tr>\n",
              "      <th>1</th>\n",
              "      <td>Ростелеком</td>\n",
              "      <td>152</td>\n",
              "    </tr>\n",
              "    <tr>\n",
              "      <th>2</th>\n",
              "      <td>Спецремонт</td>\n",
              "      <td>116</td>\n",
              "    </tr>\n",
              "    <tr>\n",
              "      <th>3</th>\n",
              "      <td>Поляков Денис Иванович</td>\n",
              "      <td>88</td>\n",
              "    </tr>\n",
              "    <tr>\n",
              "      <th>4</th>\n",
              "      <td>ООО ЕФИН</td>\n",
              "      <td>71</td>\n",
              "    </tr>\n",
              "    <tr>\n",
              "      <th>...</th>\n",
              "      <td>...</td>\n",
              "      <td>...</td>\n",
              "    </tr>\n",
              "    <tr>\n",
              "      <th>14761</th>\n",
              "      <td>UniSol</td>\n",
              "      <td>1</td>\n",
              "    </tr>\n",
              "    <tr>\n",
              "      <th>14762</th>\n",
              "      <td>UNISTORY LLC</td>\n",
              "      <td>1</td>\n",
              "    </tr>\n",
              "    <tr>\n",
              "      <th>14763</th>\n",
              "      <td>UNIT6</td>\n",
              "      <td>1</td>\n",
              "    </tr>\n",
              "    <tr>\n",
              "      <th>14764</th>\n",
              "      <td>United Distribution</td>\n",
              "      <td>1</td>\n",
              "    </tr>\n",
              "    <tr>\n",
              "      <th>14765</th>\n",
              "      <td>UNITEL LLC</td>\n",
              "      <td>1</td>\n",
              "    </tr>\n",
              "  </tbody>\n",
              "</table>\n",
              "<p>14766 rows × 2 columns</p>\n",
              "</div>"
            ],
            "text/plain": [
              "               employers_name  count_area\n",
              "0                      Яндекс         181\n",
              "1                  Ростелеком         152\n",
              "2                  Спецремонт         116\n",
              "3      Поляков Денис Иванович          88\n",
              "4                   ООО ЕФИН           71\n",
              "...                       ...         ...\n",
              "14761                  UniSol           1\n",
              "14762            UNISTORY LLC           1\n",
              "14763                   UNIT6           1\n",
              "14764     United Distribution           1\n",
              "14765              UNITEL LLC           1\n",
              "\n",
              "[14766 rows x 2 columns]"
            ]
          },
          "execution_count": 283,
          "metadata": {},
          "output_type": "execute_result"
        }
      ],
      "source": [
        "# результат запроса\n",
        "df = pd.read_sql_query(query_5_3, connection)\n",
        "df"
      ]
    },
    {
      "cell_type": "markdown",
      "id": "eab2206d-d95b-468b-8e5f-34381abf0ce7",
      "metadata": {
        "id": "eab2206d-d95b-468b-8e5f-34381abf0ce7"
      },
      "source": [
        "4. Напишите запрос для подсчёта количества работодателей, у которых не указана сфера деятельности. "
      ]
    },
    {
      "cell_type": "code",
      "execution_count": 284,
      "id": "80defb23-bfb1-4a18-8be6-bf36aa7165d5",
      "metadata": {
        "id": "80defb23-bfb1-4a18-8be6-bf36aa7165d5"
      },
      "outputs": [],
      "source": [
        "# текст запроса\n",
        "query_5_4 = f''' SELECT\n",
        "                     COUNT(e.id) AS count_employers\n",
        "                 FROM EMPLOYERS e\n",
        "                 LEFT JOIN EMPLOYERS_INDUSTRIES ei ON e.id = ei.employer_id\n",
        "                 WHERE ei.industry_id IS NULL\n",
        "             '''\n",
        "# использовала запрос для определения количества работодателей используя столбец id из таб.EMPLOYERS\n",
        "# таблицы EMPLOYERS и EMPLOYERS_INDUSTRIES объединила методом LEFT JOIN\n",
        "# применила условие, что сфера деятельности должны быть равны пустому значению"
      ]
    },
    {
      "cell_type": "code",
      "execution_count": 285,
      "id": "Dp_yCx6ysQSu",
      "metadata": {
        "id": "Dp_yCx6ysQSu"
      },
      "outputs": [
        {
          "data": {
            "text/html": [
              "<div>\n",
              "<style scoped>\n",
              "    .dataframe tbody tr th:only-of-type {\n",
              "        vertical-align: middle;\n",
              "    }\n",
              "\n",
              "    .dataframe tbody tr th {\n",
              "        vertical-align: top;\n",
              "    }\n",
              "\n",
              "    .dataframe thead th {\n",
              "        text-align: right;\n",
              "    }\n",
              "</style>\n",
              "<table border=\"1\" class=\"dataframe\">\n",
              "  <thead>\n",
              "    <tr style=\"text-align: right;\">\n",
              "      <th></th>\n",
              "      <th>count_employers</th>\n",
              "    </tr>\n",
              "  </thead>\n",
              "  <tbody>\n",
              "    <tr>\n",
              "      <th>0</th>\n",
              "      <td>8419</td>\n",
              "    </tr>\n",
              "  </tbody>\n",
              "</table>\n",
              "</div>"
            ],
            "text/plain": [
              "   count_employers\n",
              "0             8419"
            ]
          },
          "execution_count": 285,
          "metadata": {},
          "output_type": "execute_result"
        }
      ],
      "source": [
        "# результат запроса\n",
        "df = pd.read_sql_query(query_5_4, connection)\n",
        "df"
      ]
    },
    {
      "cell_type": "markdown",
      "id": "0112af31-f6b0-4e3b-82ab-71296e752e5e",
      "metadata": {
        "id": "0112af31-f6b0-4e3b-82ab-71296e752e5e"
      },
      "source": [
        "5. Напишите запрос, чтобы узнать название компании, находящейся на третьем месте в алфавитном списке (по названию) компаний, у которых указано четыре сферы деятельности. "
      ]
    },
    {
      "cell_type": "code",
      "execution_count": 286,
      "id": "973b0cfc-a972-470a-8b4a-68744ef220c4",
      "metadata": {
        "id": "973b0cfc-a972-470a-8b4a-68744ef220c4"
      },
      "outputs": [],
      "source": [
        "# текст запроса\n",
        "query_5_5 = f''' SELECT\n",
        "                     e.name AS employers_name\n",
        "                 FROM EMPLOYERS e\n",
        "                 LEFT JOIN EMPLOYERS_INDUSTRIES ei ON e.id = ei.employer_id\n",
        "                 GROUP BY employers_name\n",
        "                 HAVING COUNT(ei.employer_id) = 4\n",
        "                 ORDER BY employers_name\n",
        "                 OFFSET 2 LIMIT 1\n",
        "             '''\n",
        "# использовала запрос для определения названия компании используя столбец name из таб.EMPLOYERS\n",
        "# таблицы EMPLOYERS и EMPLOYERS_INDUSTRIES объединила методом LEFT JOIN \n",
        "# отфильтровала результат по тому, чтобы количество указанных сфер из столбца employer_id таб. EMPLOYERS_INDUSTRIES деятельности было равно 4\n",
        "# группировала по созданному столбцу employers_name\n",
        "# отсортировала запрос по алфавитному порядку используя созданный в запросе столбец employers_name \n",
        "# вырезала 2 первые строки и указала лимит на отображение 1"
      ]
    },
    {
      "cell_type": "code",
      "execution_count": 287,
      "id": "xsPtpp8EsaED",
      "metadata": {
        "id": "xsPtpp8EsaED"
      },
      "outputs": [
        {
          "data": {
            "text/html": [
              "<div>\n",
              "<style scoped>\n",
              "    .dataframe tbody tr th:only-of-type {\n",
              "        vertical-align: middle;\n",
              "    }\n",
              "\n",
              "    .dataframe tbody tr th {\n",
              "        vertical-align: top;\n",
              "    }\n",
              "\n",
              "    .dataframe thead th {\n",
              "        text-align: right;\n",
              "    }\n",
              "</style>\n",
              "<table border=\"1\" class=\"dataframe\">\n",
              "  <thead>\n",
              "    <tr style=\"text-align: right;\">\n",
              "      <th></th>\n",
              "      <th>employers_name</th>\n",
              "    </tr>\n",
              "  </thead>\n",
              "  <tbody>\n",
              "    <tr>\n",
              "      <th>0</th>\n",
              "      <td>2ГИС</td>\n",
              "    </tr>\n",
              "  </tbody>\n",
              "</table>\n",
              "</div>"
            ],
            "text/plain": [
              "  employers_name\n",
              "0           2ГИС"
            ]
          },
          "execution_count": 287,
          "metadata": {},
          "output_type": "execute_result"
        }
      ],
      "source": [
        "# результат запроса\n",
        "df = pd.read_sql_query(query_5_5, connection)\n",
        "df"
      ]
    },
    {
      "cell_type": "markdown",
      "id": "3bfcfdaf-755d-4d2b-8ed8-326201dc07ab",
      "metadata": {
        "id": "3bfcfdaf-755d-4d2b-8ed8-326201dc07ab"
      },
      "source": [
        "6. С помощью запроса выясните, у какого количества работодателей в качестве сферы деятельности указана Разработка программного обеспечения.\n"
      ]
    },
    {
      "cell_type": "code",
      "execution_count": 288,
      "id": "ad3f270f-2991-47eb-929b-e8f88a55b0d1",
      "metadata": {
        "id": "ad3f270f-2991-47eb-929b-e8f88a55b0d1"
      },
      "outputs": [],
      "source": [
        "# текст запроса\n",
        "query_5_6 = f''' SELECT\n",
        "                     COUNT(ei.employer_id) AS count_employer\n",
        "                 FROM EMPLOYERS_INDUSTRIES ei\n",
        "                 JOIN INDUSTRIES i ON ei.industry_id = i.id\n",
        "                 WHERE i.name = 'Разработка программного обеспечения'\n",
        "             '''\n",
        "# использовала запрос для определения количества работодателей используя столбец employer_id из таб.EMPLOYERS_INDUSTRIES \n",
        "# таблицы EMPLOYERS_INDUSTRIES и INDUSTRIES объединила методом JOIN \n",
        "# отфильтровала результат по тому, чтобы в качестве сферы деятельности указано было «Разработка программного обеспечения».\n"
      ]
    },
    {
      "cell_type": "code",
      "execution_count": 289,
      "id": "H72qxWM0shPR",
      "metadata": {
        "id": "H72qxWM0shPR"
      },
      "outputs": [
        {
          "data": {
            "text/html": [
              "<div>\n",
              "<style scoped>\n",
              "    .dataframe tbody tr th:only-of-type {\n",
              "        vertical-align: middle;\n",
              "    }\n",
              "\n",
              "    .dataframe tbody tr th {\n",
              "        vertical-align: top;\n",
              "    }\n",
              "\n",
              "    .dataframe thead th {\n",
              "        text-align: right;\n",
              "    }\n",
              "</style>\n",
              "<table border=\"1\" class=\"dataframe\">\n",
              "  <thead>\n",
              "    <tr style=\"text-align: right;\">\n",
              "      <th></th>\n",
              "      <th>count_employer</th>\n",
              "    </tr>\n",
              "  </thead>\n",
              "  <tbody>\n",
              "    <tr>\n",
              "      <th>0</th>\n",
              "      <td>3553</td>\n",
              "    </tr>\n",
              "  </tbody>\n",
              "</table>\n",
              "</div>"
            ],
            "text/plain": [
              "   count_employer\n",
              "0            3553"
            ]
          },
          "execution_count": 289,
          "metadata": {},
          "output_type": "execute_result"
        }
      ],
      "source": [
        "# результат запроса\n",
        "df = pd.read_sql_query(query_5_6, connection)\n",
        "df"
      ]
    },
    {
      "cell_type": "markdown",
      "id": "7b02bb86-0546-40fb-94a4-242f050a5c57",
      "metadata": {
        "id": "7b02bb86-0546-40fb-94a4-242f050a5c57"
      },
      "source": [
        "7. Для компании «Яндекс» выведите список регионов-миллионников, в которых представлены вакансии компании, вместе с количеством вакансий в этих регионах. Также добавьте строку Total с общим количеством вакансий компании. Результат отсортируйте по возрастанию количества.\n",
        "\n",
        "Список городов-милионников надо взять [отсюда](https://ru.wikipedia.org/wiki/%D0%93%D0%BE%D1%80%D0%BE%D0%B4%D0%B0-%D0%BC%D0%B8%D0%BB%D0%BB%D0%B8%D0%BE%D0%BD%D0%B5%D1%80%D1%8B_%D0%A0%D0%BE%D1%81%D1%81%D0%B8%D0%B8). \n",
        "\n",
        "Если возникнут трудности с этим задание посмотрите материалы модуля  PYTHON-17. Как получать данные из веб-источников и API. "
      ]
    },
    {
      "cell_type": "code",
      "execution_count": 192,
      "id": "ZdfrL6gIs1Pn",
      "metadata": {
        "id": "ZdfrL6gIs1Pn"
      },
      "outputs": [],
      "source": [
        "# код для получения списка городов-милионников\n",
        "#  парсинг таблицы из Wikipedia\n",
        "import urllib.parse as req\n",
        "\n",
        "path_common = req.urlparse('https://ru.wikipedia.org/wiki/Города-миллионеры_России#Список_городов-миллионеров')\n",
        "url = path_common.scheme + '://' + req.quote(path_common.netloc) +  req.quote(path_common.path) + '#'+ req.quote(path_common.fragment)\n",
        "#  читаем ссылку\n",
        "data = pd.read_html(url)[1]"
      ]
    },
    {
      "cell_type": "code",
      "execution_count": 195,
      "id": "1f12dc77",
      "metadata": {},
      "outputs": [],
      "source": [
        "#  данные  редактируем\n",
        "city = list(data['Город']) # cтолбец переводим в список\n",
        "city[13] = 'Воронеж' # меняем 13 элемент списка на верный 'Воронеж'\n",
        "city = tuple(city) # переводим все в кортеж"
      ]
    },
    {
      "cell_type": "code",
      "execution_count": 290,
      "id": "d4e1a4be",
      "metadata": {},
      "outputs": [],
      "source": [
        "# текст запроса\n",
        "query_5_7 = f''' SELECT \n",
        "                     a.name, \n",
        "                     COUNT(v.id) AS count_vacancies_yandex\n",
        "                     \n",
        "                FROM VACANCIES v \n",
        "                JOIN AREAS a on v.area_id = a.id\n",
        "                JOIN EMPLOYERS e on v.employer_id = e.id\n",
        "                WHERE e.name = 'Яндекс' \n",
        "                AND a.name in {city}\n",
        "                GROUP BY a.name\n",
        "                UNION ALL\n",
        "                SELECT \n",
        "                     'Total', \n",
        "                     COUNT(v.id) AS count_vacancies_yandex    \n",
        "                FROM VACANCIES v \n",
        "                JOIN AREAS a on v.area_id = a.id\n",
        "                JOIN EMPLOYERS e on v.employer_id = e.id\n",
        "                WHERE e.name = 'Яндекс' \n",
        "                AND a.name in {city}\n",
        "                ORDER BY count_vacancies_yandex\n",
        "           '''\n",
        "# использовала запрос для определения количества вакансия Яндекса используя столбец id из таб.VACANCIES\n",
        "# таблицы VACANCIES, AREAS и EMPLOYERS объединила методом JOIN \n",
        "# отфильтровала результат по тому, чтобы в названии работодателя было указано Яндекс и название региона совпадало с названием регионов-миллионников  \n",
        "# группировала по a.name \n",
        "# прибавила строку Total, отображаю общее количество вакансий Яндекса представленных в регионах-миллионников \n",
        "# отсортировала запрос по возрастанию используя созданный в запросе столбец count_vacancies_yandex"
      ]
    },
    {
      "cell_type": "code",
      "execution_count": 291,
      "id": "ttPhiO1rsvPq",
      "metadata": {
        "id": "ttPhiO1rsvPq"
      },
      "outputs": [
        {
          "data": {
            "text/html": [
              "<div>\n",
              "<style scoped>\n",
              "    .dataframe tbody tr th:only-of-type {\n",
              "        vertical-align: middle;\n",
              "    }\n",
              "\n",
              "    .dataframe tbody tr th {\n",
              "        vertical-align: top;\n",
              "    }\n",
              "\n",
              "    .dataframe thead th {\n",
              "        text-align: right;\n",
              "    }\n",
              "</style>\n",
              "<table border=\"1\" class=\"dataframe\">\n",
              "  <thead>\n",
              "    <tr style=\"text-align: right;\">\n",
              "      <th></th>\n",
              "      <th>name</th>\n",
              "      <th>count_vacancies_yandex</th>\n",
              "    </tr>\n",
              "  </thead>\n",
              "  <tbody>\n",
              "    <tr>\n",
              "      <th>0</th>\n",
              "      <td>Омск</td>\n",
              "      <td>21</td>\n",
              "    </tr>\n",
              "    <tr>\n",
              "      <th>1</th>\n",
              "      <td>Челябинск</td>\n",
              "      <td>22</td>\n",
              "    </tr>\n",
              "    <tr>\n",
              "      <th>2</th>\n",
              "      <td>Красноярск</td>\n",
              "      <td>23</td>\n",
              "    </tr>\n",
              "    <tr>\n",
              "      <th>3</th>\n",
              "      <td>Волгоград</td>\n",
              "      <td>24</td>\n",
              "    </tr>\n",
              "    <tr>\n",
              "      <th>4</th>\n",
              "      <td>Пермь</td>\n",
              "      <td>25</td>\n",
              "    </tr>\n",
              "    <tr>\n",
              "      <th>5</th>\n",
              "      <td>Казань</td>\n",
              "      <td>25</td>\n",
              "    </tr>\n",
              "    <tr>\n",
              "      <th>6</th>\n",
              "      <td>Ростов-на-Дону</td>\n",
              "      <td>25</td>\n",
              "    </tr>\n",
              "    <tr>\n",
              "      <th>7</th>\n",
              "      <td>Уфа</td>\n",
              "      <td>26</td>\n",
              "    </tr>\n",
              "    <tr>\n",
              "      <th>8</th>\n",
              "      <td>Самара</td>\n",
              "      <td>26</td>\n",
              "    </tr>\n",
              "    <tr>\n",
              "      <th>9</th>\n",
              "      <td>Краснодар</td>\n",
              "      <td>30</td>\n",
              "    </tr>\n",
              "    <tr>\n",
              "      <th>10</th>\n",
              "      <td>Воронеж</td>\n",
              "      <td>32</td>\n",
              "    </tr>\n",
              "    <tr>\n",
              "      <th>11</th>\n",
              "      <td>Новосибирск</td>\n",
              "      <td>35</td>\n",
              "    </tr>\n",
              "    <tr>\n",
              "      <th>12</th>\n",
              "      <td>Нижний Новгород</td>\n",
              "      <td>36</td>\n",
              "    </tr>\n",
              "    <tr>\n",
              "      <th>13</th>\n",
              "      <td>Екатеринбург</td>\n",
              "      <td>39</td>\n",
              "    </tr>\n",
              "    <tr>\n",
              "      <th>14</th>\n",
              "      <td>Санкт-Петербург</td>\n",
              "      <td>42</td>\n",
              "    </tr>\n",
              "    <tr>\n",
              "      <th>15</th>\n",
              "      <td>Москва</td>\n",
              "      <td>54</td>\n",
              "    </tr>\n",
              "    <tr>\n",
              "      <th>16</th>\n",
              "      <td>Total</td>\n",
              "      <td>485</td>\n",
              "    </tr>\n",
              "  </tbody>\n",
              "</table>\n",
              "</div>"
            ],
            "text/plain": [
              "               name  count_vacancies_yandex\n",
              "0              Омск                      21\n",
              "1         Челябинск                      22\n",
              "2        Красноярск                      23\n",
              "3         Волгоград                      24\n",
              "4             Пермь                      25\n",
              "5            Казань                      25\n",
              "6    Ростов-на-Дону                      25\n",
              "7               Уфа                      26\n",
              "8            Самара                      26\n",
              "9         Краснодар                      30\n",
              "10          Воронеж                      32\n",
              "11      Новосибирск                      35\n",
              "12  Нижний Новгород                      36\n",
              "13     Екатеринбург                      39\n",
              "14  Санкт-Петербург                      42\n",
              "15           Москва                      54\n",
              "16            Total                     485"
            ]
          },
          "execution_count": 291,
          "metadata": {},
          "output_type": "execute_result"
        }
      ],
      "source": [
        "# результат запроса\n",
        "df7 = pd.read_sql_query(query_5_7, connection)\n",
        "df7"
      ]
    },
    {
      "cell_type": "markdown",
      "id": "04966e40-3bc3-4dc8-9ba2-e80580ce3abc",
      "metadata": {
        "id": "04966e40-3bc3-4dc8-9ba2-e80580ce3abc"
      },
      "source": [
        "***"
      ]
    },
    {
      "cell_type": "code",
      "execution_count": null,
      "id": "aGGyER-yt4SR",
      "metadata": {
        "id": "aGGyER-yt4SR"
      },
      "outputs": [],
      "source": [
        "# выводы по анализу работодателей"
      ]
    },
    {
      "attachments": {},
      "cell_type": "markdown",
      "id": "fcdf3152",
      "metadata": {},
      "source": [
        "- По результатам анализа работодателей мы поняли, что больше всего вакансий предлагают компании Яндекс (1933), Ростелеком (491), Тинькофф (444), СБЕР (428), Газпром нефть (331). Можно сделать вывод, что в крупные компании требуется больше работников, что может быть связано с расширением или стандартной текучкой кадров, но в крупных компаниях из-за размера такая текучка больше.\n",
        "- В качестве региона где нет вакансий, но есть работодатели, указывают чаще Россию. Мне кажется такая особенность появилась из-за того, что Россия это страна, а вакансии могут быть в нескольких городах. Поэтому при регистрации объявления компания может указать крупный объект, в который входят много объектов поменьше, а в вакансии указать уже конкретный город, в котором ищут человека. \n",
        "- В наибольшем количестве регионов опубликовали свои вакансии Яндекс (181 регион), Ростелеком (152), Спецремонт\t(116). Скорей всего это связанно с тем, что у них есть вакансии на удаленку. Из-за чего они могут набирать работников из любого региона. Так же это может быть связано с распространенностью офисов в разных регионах.\n",
        "- 8419 работодателей не указывают сфера деятельности. Это лучше исправить, так как многие работники могут хотеть работать в определенной сфере. И при поиске работы при фильтрации вакансий могут ее указать. Следовательно, они могут пропустить вакансию работодателя, даже если она им подходит, из-за того, что она не высветится в списке.\n",
        "- 3553 работодателей в качестве сферы деятельности указали «Разработка программного обеспечения». В данный момент, все связанное с IT популярно. И указав данную сферу деятельности работодателю будет проще найти подходящего для своих нужд работника.\n",
        "- Компания Яндекс, как одна из крупнейших компаний, представила вакансии в 16 крупных городах. Из них больше всего представлено в Москве (54) и Санкт-Петербурге(42). Всего в городах миллиониках представлено 485 вакансий из 1933. Это может быть связано с тем, что в Яндексе много вакансий подходящих для удаленной работы, и они ищут работников в разных регионах. Так Яндекс представлен в 181 регионе."
      ]
    },
    {
      "cell_type": "markdown",
      "id": "b1ef156a-efcb-49ce-bb23-90763e7f35b2",
      "metadata": {
        "id": "b1ef156a-efcb-49ce-bb23-90763e7f35b2",
        "tags": []
      },
      "source": [
        "# Юнит 6. Предметный анализ"
      ]
    },
    {
      "cell_type": "markdown",
      "id": "b9cd50a0-992d-4988-8463-2b2b1c4629b4",
      "metadata": {
        "id": "b9cd50a0-992d-4988-8463-2b2b1c4629b4"
      },
      "source": [
        "1. Сколько вакансий имеет отношение к данным?\n",
        "\n",
        "Считаем, что вакансия имеет отношение к данным, если в её названии содержатся слова 'data' или 'данн'.\n",
        "\n",
        "*Подсказка: Обратите внимание, что названия вакансий могут быть написаны в любом регистре.* \n"
      ]
    },
    {
      "cell_type": "code",
      "execution_count": 292,
      "id": "54ab0e50-c0f1-47cc-a54b-bc5c8bc363f9",
      "metadata": {
        "id": "54ab0e50-c0f1-47cc-a54b-bc5c8bc363f9"
      },
      "outputs": [],
      "source": [
        "# текст запроса\n",
        "query_6_1 = f''' SELECT\n",
        "                     COUNT(name) AS count_vacancies\n",
        "                 FROM VACANCIES\n",
        "                 WHERE name ILIKE '%data%'\n",
        "                 OR name ILIKE '%ДАНН%'\n",
        "             '''\n",
        "# использовала запрос для определения количества вакансий используя столбец name из таб.VACANCIES\n",
        "# отфильтровала результат по тому, чтобы где-нибудь в названии name содержались слова data, ДАНН, не учитывая регистр"
      ]
    },
    {
      "cell_type": "code",
      "execution_count": 293,
      "id": "9F1meAqsuUjd",
      "metadata": {
        "id": "9F1meAqsuUjd"
      },
      "outputs": [
        {
          "data": {
            "text/html": [
              "<div>\n",
              "<style scoped>\n",
              "    .dataframe tbody tr th:only-of-type {\n",
              "        vertical-align: middle;\n",
              "    }\n",
              "\n",
              "    .dataframe tbody tr th {\n",
              "        vertical-align: top;\n",
              "    }\n",
              "\n",
              "    .dataframe thead th {\n",
              "        text-align: right;\n",
              "    }\n",
              "</style>\n",
              "<table border=\"1\" class=\"dataframe\">\n",
              "  <thead>\n",
              "    <tr style=\"text-align: right;\">\n",
              "      <th></th>\n",
              "      <th>count_vacancies</th>\n",
              "    </tr>\n",
              "  </thead>\n",
              "  <tbody>\n",
              "    <tr>\n",
              "      <th>0</th>\n",
              "      <td>1771</td>\n",
              "    </tr>\n",
              "  </tbody>\n",
              "</table>\n",
              "</div>"
            ],
            "text/plain": [
              "   count_vacancies\n",
              "0             1771"
            ]
          },
          "execution_count": 293,
          "metadata": {},
          "output_type": "execute_result"
        }
      ],
      "source": [
        "# результат запроса\n",
        "df = pd.read_sql_query(query_6_1, connection)\n",
        "df"
      ]
    },
    {
      "cell_type": "markdown",
      "id": "4dea20cb-a36b-474a-a0b9-e08e8e3857a5",
      "metadata": {
        "id": "4dea20cb-a36b-474a-a0b9-e08e8e3857a5"
      },
      "source": [
        "2. Сколько есть подходящих вакансий для начинающего дата-сайентиста? \n",
        "Будем считать вакансиями для дата-сайентистов такие, в названии которых есть хотя бы одно из следующих сочетаний:\n",
        "* 'data scientist'\n",
        "* 'data science'\n",
        "* 'исследователь данных'\n",
        "* 'ML' (здесь не нужно брать вакансии по HTML)\n",
        "* 'machine learning'\n",
        "* 'машинн%обучен%'\n",
        "\n",
        "** В следующих заданиях мы продолжим работать с вакансиями по этому условию.*\n",
        "\n",
        "Считаем вакансиями для специалистов уровня Junior следующие:\n",
        "* в названии есть слово 'junior' *или*\n",
        "* требуемый опыт — Нет опыта *или*\n",
        "* тип трудоустройства — Стажировка.\n",
        " "
      ]
    },
    {
      "cell_type": "code",
      "execution_count": 294,
      "id": "9c61b3c0-bb66-46c9-ae1e-81d3f5752b4a",
      "metadata": {
        "id": "9c61b3c0-bb66-46c9-ae1e-81d3f5752b4a"
      },
      "outputs": [],
      "source": [
        "# текст запроса\n",
        "query_6_2 = f''' SELECT\n",
        "                     COUNT(name) AS vacancies_count\n",
        "                 FROM VACANCIES\n",
        "                 WHERE ((name ILIKE '%data scientist%') \n",
        "                 OR (name ILIKE '%data science%')\n",
        "                 OR(name ILIKE '%исследователь данных%') \n",
        "                 OR(name LIKE '%ML%' AND name NOT LIKE '%HTML%')\n",
        "                 OR(name ILIKE '%machine learning%')\n",
        "                 OR(name ILIKE '%машинн%обучен%'))\n",
        "                 AND (name ILIKE '%junior%'\n",
        "                 OR employment = 'Стажировка'\n",
        "                 OR experience = 'Нет опыта')\n",
        "             '''\n",
        "# использовала запрос для определения количества вакансий используя столбец name из таб.VACANCIES\n",
        "# отфильтровала результат по тому, чтобы где-нибудь в названии name содержались слова data scientist, data science, исследователь данных, machine learning, машинн%обучен \n",
        "# не учитывая регистр, и учитывая регистр ML, а так же учитывая регистр не было HTML\n",
        "# в условии фильтрации прописала так же, чтобы в названии было не учитывая регистр слово junior или employment равно Стажировка, или experience равно Нет опыта\n"
      ]
    },
    {
      "cell_type": "code",
      "execution_count": 295,
      "id": "ZNM-LLYuu1dj",
      "metadata": {
        "id": "ZNM-LLYuu1dj"
      },
      "outputs": [
        {
          "data": {
            "text/html": [
              "<div>\n",
              "<style scoped>\n",
              "    .dataframe tbody tr th:only-of-type {\n",
              "        vertical-align: middle;\n",
              "    }\n",
              "\n",
              "    .dataframe tbody tr th {\n",
              "        vertical-align: top;\n",
              "    }\n",
              "\n",
              "    .dataframe thead th {\n",
              "        text-align: right;\n",
              "    }\n",
              "</style>\n",
              "<table border=\"1\" class=\"dataframe\">\n",
              "  <thead>\n",
              "    <tr style=\"text-align: right;\">\n",
              "      <th></th>\n",
              "      <th>vacancies_count</th>\n",
              "    </tr>\n",
              "  </thead>\n",
              "  <tbody>\n",
              "    <tr>\n",
              "      <th>0</th>\n",
              "      <td>51</td>\n",
              "    </tr>\n",
              "  </tbody>\n",
              "</table>\n",
              "</div>"
            ],
            "text/plain": [
              "   vacancies_count\n",
              "0               51"
            ]
          },
          "execution_count": 295,
          "metadata": {},
          "output_type": "execute_result"
        }
      ],
      "source": [
        "# результат запроса\n",
        "df = pd.read_sql_query(query_6_2, connection)\n",
        "df"
      ]
    },
    {
      "cell_type": "markdown",
      "id": "eedceb80-c5ca-480e-b27a-278dfb8b4438",
      "metadata": {
        "id": "eedceb80-c5ca-480e-b27a-278dfb8b4438"
      },
      "source": [
        "3. Сколько есть вакансий для DS, в которых в качестве ключевого навыка указан SQL или postgres?\n",
        "\n",
        "** Критерии для отнесения вакансии к DS указаны в предыдущем задании.*"
      ]
    },
    {
      "cell_type": "code",
      "execution_count": 296,
      "id": "69621713-0cc5-4f1b-a1d7-bb144fa6148c",
      "metadata": {
        "id": "69621713-0cc5-4f1b-a1d7-bb144fa6148c"
      },
      "outputs": [],
      "source": [
        "# текст запроса\n",
        "query_6_3 = f''' SELECT\n",
        "                     COUNT(name) AS count_vacancies_DS\n",
        "                 FROM VACANCIES\n",
        "                 WHERE ((name ILIKE '%data scientist%') \n",
        "                 OR (name ILIKE '%data science%')\n",
        "                 OR(name ILIKE '%исследователь данных%') \n",
        "                 OR(name LIKE '%ML%' AND name NOT LIKE '%HTML%')\n",
        "                 OR(name ILIKE '%machine learning%')\n",
        "                 OR(name ILIKE '%машинн%обучен%'))\n",
        "                 AND (key_skills ILIKE '%SQL%'\n",
        "                 OR key_skills ILIKE '%postgres%')\n",
        "            '''\n",
        "# использовала запрос для определения количества вакансий используя столбец name из таб.VACANCIES\n",
        "# отфильтровала результат по тому, чтобы где-нибудь в названии name содержались слова data scientist, data science, исследователь данных, machine learning, машинн%обучен \n",
        "# не учитывая регистр, и учитывая регистр ML, а так же учитывая регистр не было HTML\n",
        "# в условии фильтрации прописала так же, чтобы в key_skills где-нибудь не учитывая регистр было написано SQL или postgres"
      ]
    },
    {
      "cell_type": "code",
      "execution_count": 297,
      "id": "alA8WEAAvGdf",
      "metadata": {
        "id": "alA8WEAAvGdf"
      },
      "outputs": [
        {
          "data": {
            "text/html": [
              "<div>\n",
              "<style scoped>\n",
              "    .dataframe tbody tr th:only-of-type {\n",
              "        vertical-align: middle;\n",
              "    }\n",
              "\n",
              "    .dataframe tbody tr th {\n",
              "        vertical-align: top;\n",
              "    }\n",
              "\n",
              "    .dataframe thead th {\n",
              "        text-align: right;\n",
              "    }\n",
              "</style>\n",
              "<table border=\"1\" class=\"dataframe\">\n",
              "  <thead>\n",
              "    <tr style=\"text-align: right;\">\n",
              "      <th></th>\n",
              "      <th>count_vacancies_ds</th>\n",
              "    </tr>\n",
              "  </thead>\n",
              "  <tbody>\n",
              "    <tr>\n",
              "      <th>0</th>\n",
              "      <td>201</td>\n",
              "    </tr>\n",
              "  </tbody>\n",
              "</table>\n",
              "</div>"
            ],
            "text/plain": [
              "   count_vacancies_ds\n",
              "0                 201"
            ]
          },
          "execution_count": 297,
          "metadata": {},
          "output_type": "execute_result"
        }
      ],
      "source": [
        "# результат запроса\n",
        "df = pd.read_sql_query(query_6_3, connection)\n",
        "df"
      ]
    },
    {
      "cell_type": "markdown",
      "id": "1be1e9c6-37cf-4a5f-bfeb-04cab799dc80",
      "metadata": {
        "id": "1be1e9c6-37cf-4a5f-bfeb-04cab799dc80"
      },
      "source": [
        "4. Проверьте, насколько популярен Python в требованиях работодателей к DS.Для этого вычислите количество вакансий, в которых в качестве ключевого навыка указан Python.\n",
        "\n",
        "** Это можно сделать помощью запроса, аналогичного предыдущему.*"
      ]
    },
    {
      "cell_type": "code",
      "execution_count": 298,
      "id": "0036a355-9ccf-4564-8b01-73d8194297e7",
      "metadata": {
        "id": "0036a355-9ccf-4564-8b01-73d8194297e7"
      },
      "outputs": [],
      "source": [
        "# текст запроса\n",
        "query_6_4 = f''' SELECT\n",
        "                     COUNT(name) AS count_vacancies_python\n",
        "                 FROM VACANCIES\n",
        "                 WHERE ((name ILIKE '%data scientist%') \n",
        "                 OR (name ILIKE '%data science%')\n",
        "                 OR(name ILIKE '%исследователь данных%') \n",
        "                 OR(name LIKE '%ML%' AND name NOT LIKE '%HTML%')\n",
        "                 OR(name ILIKE '%machine learning%')\n",
        "                 OR(name ILIKE '%машинн%обучен%'))\n",
        "                 AND key_skills ILIKE '%Python%'\n",
        "            '''\n",
        "# использовала запрос для определения количества вакансий используя столбец name из таб.VACANCIES\n",
        "# отфильтровала результат по тому, чтобы где-нибудь в названии name содержались слова data scientist, data science, исследователь данных, machine learning, машинн%обучен \n",
        "# не учитывая регистр, и учитывая регистр ML, а так же учитывая регистр не было HTML\n",
        "# в условии фильтрации прописала так же, чтобы в key_skills где-нибудь не учитывая регистр было написано Python"
      ]
    },
    {
      "cell_type": "code",
      "execution_count": 299,
      "id": "1i-5WyucvQ6v",
      "metadata": {
        "id": "1i-5WyucvQ6v"
      },
      "outputs": [
        {
          "data": {
            "text/html": [
              "<div>\n",
              "<style scoped>\n",
              "    .dataframe tbody tr th:only-of-type {\n",
              "        vertical-align: middle;\n",
              "    }\n",
              "\n",
              "    .dataframe tbody tr th {\n",
              "        vertical-align: top;\n",
              "    }\n",
              "\n",
              "    .dataframe thead th {\n",
              "        text-align: right;\n",
              "    }\n",
              "</style>\n",
              "<table border=\"1\" class=\"dataframe\">\n",
              "  <thead>\n",
              "    <tr style=\"text-align: right;\">\n",
              "      <th></th>\n",
              "      <th>count_vacancies_python</th>\n",
              "    </tr>\n",
              "  </thead>\n",
              "  <tbody>\n",
              "    <tr>\n",
              "      <th>0</th>\n",
              "      <td>351</td>\n",
              "    </tr>\n",
              "  </tbody>\n",
              "</table>\n",
              "</div>"
            ],
            "text/plain": [
              "   count_vacancies_python\n",
              "0                     351"
            ]
          },
          "execution_count": 299,
          "metadata": {},
          "output_type": "execute_result"
        }
      ],
      "source": [
        "# результат запроса\n",
        "df = pd.read_sql_query(query_6_4, connection)\n",
        "df"
      ]
    },
    {
      "cell_type": "markdown",
      "id": "ec3c8db7-fa21-4a41-a994-1af63742a642",
      "metadata": {
        "id": "ec3c8db7-fa21-4a41-a994-1af63742a642"
      },
      "source": [
        "5. Сколько ключевых навыков в среднем указывают в вакансиях для DS?\n",
        "Ответ округлите до двух знаков после точки-разделителя."
      ]
    },
    {
      "cell_type": "code",
      "execution_count": 300,
      "id": "949132bc-d5b6-4611-8218-0b9a504d74f4",
      "metadata": {
        "id": "949132bc-d5b6-4611-8218-0b9a504d74f4"
      },
      "outputs": [],
      "source": [
        "# текст запроса\n",
        "query_6_5 = f''' SELECT\n",
        "                     round(AVG(LENGTH(key_skills) - LENGTH(replace(key_skills,CHR(9),''))+1), 2) AS key_skills_DS\n",
        "                FROM VACANCIES\n",
        "                WHERE ((name ILIKE '%data scientist%') \n",
        "                OR (name ILIKE '%data science%')\n",
        "                OR(name ILIKE '%исследователь данных%') \n",
        "                OR(name LIKE '%ML%' AND name NOT LIKE '%HTML%')\n",
        "                OR(name ILIKE '%machine learning%')\n",
        "                OR(name ILIKE '%машинн%обучен%'))\n",
        "                AND  key_skills IS NOT NULL\n",
        "\n",
        "'''\n",
        "# посчитала количество символов в строке в столбце key_skills и вычла количество символов в строке в столбце key_skills без табуляции\n",
        "# к результату прибавила 1, чтобы получить число указанных навыков\n",
        "# определила среднее количество навыков в столбец key_skills из таб.VACANCIES \n",
        "# результат округлили с помощью round до 2 знака после запятой\n",
        "# отфильтровала результат по тому, чтобы где-нибудь в названии name содержались слова data scientist, data science, исследователь данных, machine learning, машинн%обучен \n",
        "# не учитывая регистр, и учитывая регистр ML, а так же учитывая регистр не было HTML\n",
        "# в условии фильтрации прописала так же, чтобы в key_skills не был пустым"
      ]
    },
    {
      "cell_type": "code",
      "execution_count": 301,
      "id": "a3V24Tvmviqk",
      "metadata": {
        "id": "a3V24Tvmviqk"
      },
      "outputs": [
        {
          "data": {
            "text/html": [
              "<div>\n",
              "<style scoped>\n",
              "    .dataframe tbody tr th:only-of-type {\n",
              "        vertical-align: middle;\n",
              "    }\n",
              "\n",
              "    .dataframe tbody tr th {\n",
              "        vertical-align: top;\n",
              "    }\n",
              "\n",
              "    .dataframe thead th {\n",
              "        text-align: right;\n",
              "    }\n",
              "</style>\n",
              "<table border=\"1\" class=\"dataframe\">\n",
              "  <thead>\n",
              "    <tr style=\"text-align: right;\">\n",
              "      <th></th>\n",
              "      <th>key_skills_ds</th>\n",
              "    </tr>\n",
              "  </thead>\n",
              "  <tbody>\n",
              "    <tr>\n",
              "      <th>0</th>\n",
              "      <td>6.41</td>\n",
              "    </tr>\n",
              "  </tbody>\n",
              "</table>\n",
              "</div>"
            ],
            "text/plain": [
              "   key_skills_ds\n",
              "0           6.41"
            ]
          },
          "execution_count": 301,
          "metadata": {},
          "output_type": "execute_result"
        }
      ],
      "source": [
        "# результат запроса\n",
        "df = pd.read_sql_query(query_6_5, connection)\n",
        "df"
      ]
    },
    {
      "cell_type": "markdown",
      "id": "1041c17a-ca8f-4543-a0ca-32778914fb00",
      "metadata": {
        "id": "1041c17a-ca8f-4543-a0ca-32778914fb00"
      },
      "source": [
        "6. Напишите запрос, позволяющий вычислить, какую зарплату для DS в **среднем** указывают для каждого типа требуемого опыта (уникальное значение из поля *experience*). \n",
        "\n",
        "При решении задачи примите во внимание следующее:\n",
        "1. Рассматриваем только вакансии, у которых заполнено хотя бы одно из двух полей с зарплатой.\n",
        "2. Если заполнены оба поля с зарплатой, то считаем зарплату по каждой вакансии как сумму двух полей, делённую на 2. Если заполнено только одно из полей, то его и считаем зарплатой по вакансии.\n",
        "3. Если в расчётах участвует null, в результате он тоже даст null (посмотрите, что возвращает запрос select 1 + null). Чтобы избежать этой ситуацию, мы воспользуемся функцией [coalesce](https://postgrespro.ru/docs/postgresql/9.5/functions-conditional#functions-coalesce-nvl-ifnull), которая заменит null на значение, которое мы передадим. Например, посмотрите, что возвращает запрос `select 1 + coalesce(null, 0)`\n",
        "\n",
        "Выясните, на какую зарплату в среднем может рассчитывать дата-сайентист с опытом работы от 3 до 6 лет. Результат округлите до целого числа. "
      ]
    },
    {
      "cell_type": "code",
      "execution_count": 302,
      "id": "6a743d39-5204-48d3-8271-b9f88e68d40e",
      "metadata": {
        "id": "6a743d39-5204-48d3-8271-b9f88e68d40e"
      },
      "outputs": [],
      "source": [
        "# текст запроса\n",
        "query_6_6 = f''' SELECT\n",
        "                     experience,\n",
        "                     round(AVG(coalesce((salary_from + salary_to)/2, salary_from, salary_to))) AS average_salary\n",
        "                 FROM VACANCIES\n",
        "                 WHERE ((name ILIKE '%data scientist%') \n",
        "                 OR (name ILIKE '%data science%')\n",
        "                 OR(name ILIKE '%исследователь данных%') \n",
        "                 OR(name LIKE '%ML%' AND name NOT LIKE '%HTML%')\n",
        "                 OR(name ILIKE '%machine learning%')\n",
        "                 OR(name ILIKE '%машинн%обучен%'))\n",
        "                 AND (salary_from IS NOT NULL\n",
        "                 OR salary_to IS NOT NULL)\n",
        "                 GROUP BY experience\n",
        "             '''\n",
        "# посчитала среднею зарплату по столбцам salary_from и salary_to из таб.VACANCIES \n",
        "# результат округлили с помощью round\n",
        "# отфильтровала результат по тому, чтобы где-нибудь в названии name содержались слова data scientist, data science, исследователь данных, machine learning, машинн%обучен \n",
        "# не учитывая регистр, и учитывая регистр ML, а так же учитывая регистр не было HTML\n",
        "# в условии фильтрации прописала так же, чтобы salary_from или salary_to  небыли пустыми\n",
        "# группировала по столбцу experience"
      ]
    },
    {
      "cell_type": "code",
      "execution_count": 303,
      "id": "aRIJ0mZEwU1_",
      "metadata": {
        "id": "aRIJ0mZEwU1_"
      },
      "outputs": [
        {
          "data": {
            "text/html": [
              "<div>\n",
              "<style scoped>\n",
              "    .dataframe tbody tr th:only-of-type {\n",
              "        vertical-align: middle;\n",
              "    }\n",
              "\n",
              "    .dataframe tbody tr th {\n",
              "        vertical-align: top;\n",
              "    }\n",
              "\n",
              "    .dataframe thead th {\n",
              "        text-align: right;\n",
              "    }\n",
              "</style>\n",
              "<table border=\"1\" class=\"dataframe\">\n",
              "  <thead>\n",
              "    <tr style=\"text-align: right;\">\n",
              "      <th></th>\n",
              "      <th>experience</th>\n",
              "      <th>average_salary</th>\n",
              "    </tr>\n",
              "  </thead>\n",
              "  <tbody>\n",
              "    <tr>\n",
              "      <th>0</th>\n",
              "      <td>Нет опыта</td>\n",
              "      <td>74643.0</td>\n",
              "    </tr>\n",
              "    <tr>\n",
              "      <th>1</th>\n",
              "      <td>От 1 года до 3 лет</td>\n",
              "      <td>139675.0</td>\n",
              "    </tr>\n",
              "    <tr>\n",
              "      <th>2</th>\n",
              "      <td>От 3 до 6 лет</td>\n",
              "      <td>243115.0</td>\n",
              "    </tr>\n",
              "  </tbody>\n",
              "</table>\n",
              "</div>"
            ],
            "text/plain": [
              "           experience  average_salary\n",
              "0           Нет опыта         74643.0\n",
              "1  От 1 года до 3 лет        139675.0\n",
              "2       От 3 до 6 лет        243115.0"
            ]
          },
          "execution_count": 303,
          "metadata": {},
          "output_type": "execute_result"
        }
      ],
      "source": [
        "# результат запроса\n",
        "df = pd.read_sql_query(query_6_6, connection)\n",
        "df"
      ]
    },
    {
      "cell_type": "markdown",
      "id": "6a7892b4-4113-4746-adce-18aa2844f18e",
      "metadata": {
        "id": "6a7892b4-4113-4746-adce-18aa2844f18e"
      },
      "source": [
        "***"
      ]
    },
    {
      "cell_type": "code",
      "execution_count": 45,
      "id": "UjLWUptVwY1o",
      "metadata": {
        "id": "UjLWUptVwY1o"
      },
      "outputs": [],
      "source": [
        "# выводы по предметному анализу"
      ]
    },
    {
      "attachments": {},
      "cell_type": "markdown",
      "id": "0fabe68b",
      "metadata": {},
      "source": [
        "- По результатам предметного анализа мы поняли, что 1771 вакансии имеют отношение к данным. Из них для начинающего дата-сайентиста подходит 51 вакансия.\n",
        "- Из относящихся к данным для 201 вакансии в ключевые навыки входят SQL или postgres. Для 351 вакансии знания Python.\n",
        "- В среднем 6.41 ключевых навыка указывают в вакансиях для DS. Средняя зарплата DS без опыта работы 74643 руб., с опытом зарплата растет. И уже с опытом от 3 до 6 года средняя зарплата равна 243115 рублей.\n",
        "- Можно сказать, что DS очень важно обладать большим количеством навыков. Чем больше ты знаешь и умеешь, тем выше шансы устроиться на работу. Зарплаты в данной сфере хорошие."
      ]
    },
    {
      "cell_type": "markdown",
      "id": "c0ED6fh7wiBT",
      "metadata": {
        "id": "c0ED6fh7wiBT"
      },
      "source": [
        "# Общий вывод по проекту"
      ]
    },
    {
      "cell_type": "code",
      "execution_count": null,
      "id": "h9B3BL-wwj18",
      "metadata": {
        "id": "h9B3BL-wwj18"
      },
      "outputs": [],
      "source": [
        "# подведем итог исследования, обобщите выводы\n",
        "# здесь можно (это будет плюсом) провести дополнительные исследования данных, сделать прогнозы, продумать варианты продолжения исследования"
      ]
    },
    {
      "attachments": {},
      "cell_type": "markdown",
      "id": "0cd86af4",
      "metadata": {},
      "source": [
        "- В данной базе  находится  49197 вакансий, 23501 работодателей,  1362 региона и 294 сферы деятельности. \n",
        "- Больше всего вакансий находятся в крупных городах Москва, Санкт-Петербург, Новосибирск. Так же есть много вакансии в крупных городах ближнего зарубежья. Только в 24073 из 49197 вакансий заполнено хотя бы одно из двух полей с зарплатой.  Стоит объяснить работодателям пользу информации о зарплате при поиске работника. Большинство работодателей ищут работников на полную занятость и полный день, таких вакансий 35367, что равно примерно 72 % от всех вакансий. Так же предпочтительней иметь опыт работы. Так в базе представлено  7197 вакансий не требующих опыта работы, что составляет примерно 15 % от всех вакансий. \n",
        "- Чем крупнее компания, тем больше работников они себе ищут. Больше всего вакансий выложили компании Яндекс (1933 вакансии), Ростелеком (491 вакансии), Тинькофф (444 вакансии), СБЕР (428 вакансии), Газпром нефть (331 вакансии). При этом в наибольшем количестве регионах представлены компании  Яндекс (181 регион), Ростелеком (152 региона), Спецремонт (116 региона). Что может быть связано с большой возможностью работать в них на удалённой работе, а так же их распространенностью в разных регионах. Видно, что самым популярным работодателем является Яндекс. Он предлагает наибольшее число вакансий, во многих регионах. Что связано с тем, что это крупный работодатель в сфере IT  в России и на него можно работать удаленно.  Сфера IT популярна, так 3553 работодателя в качестве сферы деятельности указали «Разработка программного обеспечения».\n",
        "- Из всех вакансии 1771 имеют отношение к данным. Из них для начинающего дата-сайентиста подходит 51 вакансия. Очень важно иметь в ключевых навыках  знание SQL или postgres, а также Python. Чем большем количеством ключевых навыков обладает человек, тем проще ему будет найти работу. В среднем нужно иметь 6 - 7 ключевых навыков. Зарплаты в данной профессии хорошие и растут с опытом работы."
      ]
    },
    {
      "attachments": {},
      "cell_type": "markdown",
      "id": "00ebf584",
      "metadata": {},
      "source": [
        "# 7. Дополнительные исследования данных"
      ]
    },
    {
      "attachments": {},
      "cell_type": "markdown",
      "id": "6babdd24",
      "metadata": {},
      "source": [
        "1. Среднее количество ключевых навыков для начинающиго специалиста junior в DS."
      ]
    },
    {
      "cell_type": "code",
      "execution_count": 304,
      "id": "a309ec32",
      "metadata": {},
      "outputs": [],
      "source": [
        "# текст запроса\n",
        "query_7_1 = f'''SELECT\n",
        "                     round(AVG(LENGTH(key_skills) - LENGTH(replace(key_skills,CHR(9),''))+1)) AS key_skills_junior\n",
        "                FROM VACANCIES\n",
        "                WHERE ((name ILIKE '%data scientist%') \n",
        "                OR (name ILIKE '%data science%')\n",
        "                OR(name ILIKE '%исследователь данных%') \n",
        "                OR(name LIKE '%ML%' AND name NOT LIKE '%HTML%')\n",
        "                OR(name ILIKE '%machine learning%')\n",
        "                OR(name ILIKE '%машинн%обучен%'))\n",
        "                AND  key_skills IS NOT NULL\n",
        "                AND (name ILIKE '%junior%'\n",
        "                OR employment = 'Стажировка'\n",
        "                OR experience = 'Нет опыта')\n",
        "             '''\n",
        "# посчитала количество символов в строке в столбце key_skills и вычла количество символов в строке в столбце key_skills без табуляции\n",
        "# к результату прибавила 1, чтобы получить число указанных навыков\n",
        "# определила среднее количество навыков в столбец key_skills из таб.VACANCIES \n",
        "# результат округлили с помощью round\n",
        "# отфильтровала результат по тому, чтобы где-нибудь в названии name содержались слова data scientist, data science, исследователь данных, machine learning, машинн%обучен \n",
        "# не учитывая регистр, и учитывая регистр ML, а так же учитывая регистр не было HTML\n",
        "# в условии фильтрации прописала так же чтобы в названии было не учитывая регистр слово junior или employment равно Стажировка, или experience равно Нет опыта"
      ]
    },
    {
      "cell_type": "code",
      "execution_count": 305,
      "id": "c93a0df1",
      "metadata": {},
      "outputs": [
        {
          "data": {
            "text/html": [
              "<div>\n",
              "<style scoped>\n",
              "    .dataframe tbody tr th:only-of-type {\n",
              "        vertical-align: middle;\n",
              "    }\n",
              "\n",
              "    .dataframe tbody tr th {\n",
              "        vertical-align: top;\n",
              "    }\n",
              "\n",
              "    .dataframe thead th {\n",
              "        text-align: right;\n",
              "    }\n",
              "</style>\n",
              "<table border=\"1\" class=\"dataframe\">\n",
              "  <thead>\n",
              "    <tr style=\"text-align: right;\">\n",
              "      <th></th>\n",
              "      <th>key_skills_junior</th>\n",
              "    </tr>\n",
              "  </thead>\n",
              "  <tbody>\n",
              "    <tr>\n",
              "      <th>0</th>\n",
              "      <td>7.0</td>\n",
              "    </tr>\n",
              "  </tbody>\n",
              "</table>\n",
              "</div>"
            ],
            "text/plain": [
              "   key_skills_junior\n",
              "0                7.0"
            ]
          },
          "execution_count": 305,
          "metadata": {},
          "output_type": "execute_result"
        }
      ],
      "source": [
        "# результат запроса\n",
        "df = pd.read_sql_query(query_7_1, connection)\n",
        "df"
      ]
    },
    {
      "attachments": {},
      "cell_type": "markdown",
      "id": "6e60af91",
      "metadata": {},
      "source": [
        "2. На какую минимальную зарплату может рассчитывать специалист в DS при каждом типе опыта работы."
      ]
    },
    {
      "cell_type": "code",
      "execution_count": 306,
      "id": "66a30250",
      "metadata": {},
      "outputs": [],
      "source": [
        "# текст запроса\n",
        "query_7_2 = f''' SELECT\n",
        "                     experience,\n",
        "                     round(MIN(coalesce((salary_from + salary_to) - salary_to, salary_from, salary_to))) AS average_salary_min\n",
        "                 FROM VACANCIES\n",
        "                 WHERE ((name ILIKE '%data scientist%') \n",
        "                 OR (name ILIKE '%data science%')\n",
        "                 OR(name ILIKE '%исследователь данных%') \n",
        "                 OR(name LIKE '%ML%' AND name NOT LIKE '%HTML%')\n",
        "                 OR(name ILIKE '%machine learning%')\n",
        "                 OR(name ILIKE '%машинн%обучен%'))\n",
        "                 AND (salary_from IS NOT NULL\n",
        "                 OR salary_to IS NOT NULL)\n",
        "                 GROUP BY experience\n",
        "             '''\n",
        "# посчитала минимальную зарплату по столбцам salary_from и salary_to из таб.VACANCIES \n",
        "# результат округлили с помощью round\n",
        "# отфильтровала результат по тому, чтобы где-нибудь в названии name содержались слова data scientist, data science, исследователь данных, machine learning, машинн%обучен \n",
        "# не учитывая регистр, и учитывая регистр ML, а так же учитывая регистр не было HTML\n",
        "# в условии фильтрации прописала так же, чтобы salary_from или salary_to  небыли пустыми\n",
        "# группировала по столбцу experience"
      ]
    },
    {
      "cell_type": "code",
      "execution_count": 307,
      "id": "2da46e26",
      "metadata": {},
      "outputs": [
        {
          "data": {
            "text/html": [
              "<div>\n",
              "<style scoped>\n",
              "    .dataframe tbody tr th:only-of-type {\n",
              "        vertical-align: middle;\n",
              "    }\n",
              "\n",
              "    .dataframe tbody tr th {\n",
              "        vertical-align: top;\n",
              "    }\n",
              "\n",
              "    .dataframe thead th {\n",
              "        text-align: right;\n",
              "    }\n",
              "</style>\n",
              "<table border=\"1\" class=\"dataframe\">\n",
              "  <thead>\n",
              "    <tr style=\"text-align: right;\">\n",
              "      <th></th>\n",
              "      <th>experience</th>\n",
              "      <th>average_salary_min</th>\n",
              "    </tr>\n",
              "  </thead>\n",
              "  <tbody>\n",
              "    <tr>\n",
              "      <th>0</th>\n",
              "      <td>Нет опыта</td>\n",
              "      <td>37000.0</td>\n",
              "    </tr>\n",
              "    <tr>\n",
              "      <th>1</th>\n",
              "      <td>От 1 года до 3 лет</td>\n",
              "      <td>50000.0</td>\n",
              "    </tr>\n",
              "    <tr>\n",
              "      <th>2</th>\n",
              "      <td>От 3 до 6 лет</td>\n",
              "      <td>61024.0</td>\n",
              "    </tr>\n",
              "  </tbody>\n",
              "</table>\n",
              "</div>"
            ],
            "text/plain": [
              "           experience  average_salary_min\n",
              "0           Нет опыта             37000.0\n",
              "1  От 1 года до 3 лет             50000.0\n",
              "2       От 3 до 6 лет             61024.0"
            ]
          },
          "execution_count": 307,
          "metadata": {},
          "output_type": "execute_result"
        }
      ],
      "source": [
        "# результат запроса\n",
        "df = pd.read_sql_query(query_7_2, connection)\n",
        "df"
      ]
    },
    {
      "attachments": {},
      "cell_type": "markdown",
      "id": "3f0d25d9",
      "metadata": {},
      "source": [
        "3. Определить количество вакансий DS для каждого сочетания типа рабочего графика и типа трудоустройства указанных в базе данных."
      ]
    },
    {
      "cell_type": "code",
      "execution_count": 308,
      "id": "1f590c1a",
      "metadata": {},
      "outputs": [],
      "source": [
        "# текст запроса\n",
        "query_7_3 = f''' SELECT\n",
        "                     COUNT(id) AS vacancies_number_DS,\n",
        "                     schedule,\n",
        "                    employment\n",
        "                 FROM VACANCIES\n",
        "                 WHERE ((name ILIKE '%data scientist%') \n",
        "                 OR (name ILIKE '%data science%')\n",
        "                 OR(name ILIKE '%исследователь данных%') \n",
        "                 OR(name LIKE '%ML%' AND name NOT LIKE '%HTML%')\n",
        "                 OR(name ILIKE '%machine learning%')\n",
        "                 OR(name ILIKE '%машинн%обучен%'))\n",
        "                 GROUP BY schedule, employment\n",
        "                 ORDER BY vacancies_number_DS DESC\n",
        "             '''\n",
        "# использовала запрос для определения количества вакансий использую столбец id из таб. VACANCIES \n",
        "# отфильтровала результат по тому, чтобы где-нибудь в названии name содержались слова data scientist, data science, исследователь данных, machine learning, машинн%обучен \n",
        "# не учитывая регистр, и учитывая регистр ML, а так же учитывая регистр не было HTML\n",
        "# для определения количества вакансий для сочетаний типа рабочего графика и типа трудоустройства группировала по столбцам schedule, employment \n",
        "# отсортировала запрос по убыванию используя созданный в запросе столбец vacancies_number_DS"
      ]
    },
    {
      "cell_type": "code",
      "execution_count": 309,
      "id": "2226b9c1",
      "metadata": {},
      "outputs": [
        {
          "data": {
            "text/html": [
              "<div>\n",
              "<style scoped>\n",
              "    .dataframe tbody tr th:only-of-type {\n",
              "        vertical-align: middle;\n",
              "    }\n",
              "\n",
              "    .dataframe tbody tr th {\n",
              "        vertical-align: top;\n",
              "    }\n",
              "\n",
              "    .dataframe thead th {\n",
              "        text-align: right;\n",
              "    }\n",
              "</style>\n",
              "<table border=\"1\" class=\"dataframe\">\n",
              "  <thead>\n",
              "    <tr style=\"text-align: right;\">\n",
              "      <th></th>\n",
              "      <th>vacancies_number_ds</th>\n",
              "      <th>schedule</th>\n",
              "      <th>employment</th>\n",
              "    </tr>\n",
              "  </thead>\n",
              "  <tbody>\n",
              "    <tr>\n",
              "      <th>0</th>\n",
              "      <td>319</td>\n",
              "      <td>Полный день</td>\n",
              "      <td>Полная занятость</td>\n",
              "    </tr>\n",
              "    <tr>\n",
              "      <th>1</th>\n",
              "      <td>110</td>\n",
              "      <td>Удаленная работа</td>\n",
              "      <td>Полная занятость</td>\n",
              "    </tr>\n",
              "    <tr>\n",
              "      <th>2</th>\n",
              "      <td>37</td>\n",
              "      <td>Гибкий график</td>\n",
              "      <td>Полная занятость</td>\n",
              "    </tr>\n",
              "    <tr>\n",
              "      <th>3</th>\n",
              "      <td>4</td>\n",
              "      <td>Гибкий график</td>\n",
              "      <td>Частичная занятость</td>\n",
              "    </tr>\n",
              "    <tr>\n",
              "      <th>4</th>\n",
              "      <td>3</td>\n",
              "      <td>Удаленная работа</td>\n",
              "      <td>Частичная занятость</td>\n",
              "    </tr>\n",
              "    <tr>\n",
              "      <th>5</th>\n",
              "      <td>2</td>\n",
              "      <td>Полный день</td>\n",
              "      <td>Стажировка</td>\n",
              "    </tr>\n",
              "    <tr>\n",
              "      <th>6</th>\n",
              "      <td>2</td>\n",
              "      <td>Удаленная работа</td>\n",
              "      <td>Проектная работа</td>\n",
              "    </tr>\n",
              "    <tr>\n",
              "      <th>7</th>\n",
              "      <td>2</td>\n",
              "      <td>Гибкий график</td>\n",
              "      <td>Стажировка</td>\n",
              "    </tr>\n",
              "    <tr>\n",
              "      <th>8</th>\n",
              "      <td>1</td>\n",
              "      <td>Полный день</td>\n",
              "      <td>Частичная занятость</td>\n",
              "    </tr>\n",
              "  </tbody>\n",
              "</table>\n",
              "</div>"
            ],
            "text/plain": [
              "   vacancies_number_ds          schedule           employment\n",
              "0                  319       Полный день     Полная занятость\n",
              "1                  110  Удаленная работа     Полная занятость\n",
              "2                   37     Гибкий график     Полная занятость\n",
              "3                    4     Гибкий график  Частичная занятость\n",
              "4                    3  Удаленная работа  Частичная занятость\n",
              "5                    2       Полный день           Стажировка\n",
              "6                    2  Удаленная работа     Проектная работа\n",
              "7                    2     Гибкий график           Стажировка\n",
              "8                    1       Полный день  Частичная занятость"
            ]
          },
          "execution_count": 309,
          "metadata": {},
          "output_type": "execute_result"
        }
      ],
      "source": [
        "# результат запроса\n",
        "df = pd.read_sql_query(query_7_3, connection)\n",
        "df"
      ]
    },
    {
      "attachments": {},
      "cell_type": "markdown",
      "id": "f1b9d41a",
      "metadata": {},
      "source": [
        "4. Сколько вакансий для DS предлагают разные работодатели."
      ]
    },
    {
      "cell_type": "code",
      "execution_count": 310,
      "id": "fdea3ab9",
      "metadata": {},
      "outputs": [],
      "source": [
        "# текст запроса\n",
        "query_7_4 = f''' SELECT\n",
        "                     COUNT(v.id) AS vacancies_count_DS,\n",
        "                     e.name\n",
        "                 FROM VACANCIES v\n",
        "                 JOIN EMPLOYERS e on v.employer_id = e.id\n",
        "                 WHERE ((v.name ILIKE '%data scientist%') \n",
        "                 OR (v.name ILIKE '%data science%')\n",
        "                 OR(v.name ILIKE '%исследователь данных%') \n",
        "                 OR(v.name LIKE '%ML%' AND v.name NOT LIKE '%HTML%')\n",
        "                 OR(v.name ILIKE '%machine learning%')\n",
        "                 OR(v.name ILIKE '%машинн%обучен%'))\n",
        "                 GROUP BY e.name\n",
        "                 ORDER BY vacancies_count_DS DESC\n",
        "             '''\n",
        "# использовала запрос для определения количества вакансий использую столбец id из таб. VACANCIES \n",
        "# таблицы VACANCIES и EMPLOYERS объединила методом JOIN\n",
        "# отфильтровала результат по тому, чтобы где-нибудь в названии name содержались слова data scientist, data science, исследователь данных, machine learning, машинн%обучен \n",
        "# не учитывая регистр, и учитывая регистр ML, а так же учитывая регистр не было HTML\n",
        "# групировала по name из таб. EMPLOYERS\n",
        "# отсортировала запрос по убыванию используя созданный в запросе столбец vacancies_count_DS DESC"
      ]
    },
    {
      "cell_type": "code",
      "execution_count": 311,
      "id": "8b578932",
      "metadata": {},
      "outputs": [
        {
          "data": {
            "text/html": [
              "<div>\n",
              "<style scoped>\n",
              "    .dataframe tbody tr th:only-of-type {\n",
              "        vertical-align: middle;\n",
              "    }\n",
              "\n",
              "    .dataframe tbody tr th {\n",
              "        vertical-align: top;\n",
              "    }\n",
              "\n",
              "    .dataframe thead th {\n",
              "        text-align: right;\n",
              "    }\n",
              "</style>\n",
              "<table border=\"1\" class=\"dataframe\">\n",
              "  <thead>\n",
              "    <tr style=\"text-align: right;\">\n",
              "      <th></th>\n",
              "      <th>vacancies_count_ds</th>\n",
              "      <th>name</th>\n",
              "    </tr>\n",
              "  </thead>\n",
              "  <tbody>\n",
              "    <tr>\n",
              "      <th>0</th>\n",
              "      <td>37</td>\n",
              "      <td>СБЕР</td>\n",
              "    </tr>\n",
              "    <tr>\n",
              "      <th>1</th>\n",
              "      <td>25</td>\n",
              "      <td>Bell Integrator</td>\n",
              "    </tr>\n",
              "    <tr>\n",
              "      <th>2</th>\n",
              "      <td>18</td>\n",
              "      <td>Банк ВТБ (ПАО)</td>\n",
              "    </tr>\n",
              "    <tr>\n",
              "      <th>3</th>\n",
              "      <td>15</td>\n",
              "      <td>VK</td>\n",
              "    </tr>\n",
              "    <tr>\n",
              "      <th>4</th>\n",
              "      <td>11</td>\n",
              "      <td>Positive Technologies</td>\n",
              "    </tr>\n",
              "    <tr>\n",
              "      <th>...</th>\n",
              "      <td>...</td>\n",
              "      <td>...</td>\n",
              "    </tr>\n",
              "    <tr>\n",
              "      <th>220</th>\n",
              "      <td>1</td>\n",
              "      <td>Иллекс</td>\n",
              "    </tr>\n",
              "    <tr>\n",
              "      <th>221</th>\n",
              "      <td>1</td>\n",
              "      <td>ИНВИТРО</td>\n",
              "    </tr>\n",
              "    <tr>\n",
              "      <th>222</th>\n",
              "      <td>1</td>\n",
              "      <td>Институт искусственного интеллекта AIRI</td>\n",
              "    </tr>\n",
              "    <tr>\n",
              "      <th>223</th>\n",
              "      <td>1</td>\n",
              "      <td>Интеллектуальные решения</td>\n",
              "    </tr>\n",
              "    <tr>\n",
              "      <th>224</th>\n",
              "      <td>1</td>\n",
              "      <td>Инфосистемы Джет</td>\n",
              "    </tr>\n",
              "  </tbody>\n",
              "</table>\n",
              "<p>225 rows × 2 columns</p>\n",
              "</div>"
            ],
            "text/plain": [
              "     vacancies_count_ds                                     name\n",
              "0                    37                                     СБЕР\n",
              "1                    25                          Bell Integrator\n",
              "2                    18                           Банк ВТБ (ПАО)\n",
              "3                    15                                       VK\n",
              "4                    11                    Positive Technologies\n",
              "..                  ...                                      ...\n",
              "220                   1                                   Иллекс\n",
              "221                   1                                  ИНВИТРО\n",
              "222                   1  Институт искусственного интеллекта AIRI\n",
              "223                   1                 Интеллектуальные решения\n",
              "224                   1                         Инфосистемы Джет\n",
              "\n",
              "[225 rows x 2 columns]"
            ]
          },
          "execution_count": 311,
          "metadata": {},
          "output_type": "execute_result"
        }
      ],
      "source": [
        "# результат запроса\n",
        "df = pd.read_sql_query(query_7_4, connection)\n",
        "df"
      ]
    },
    {
      "cell_type": "code",
      "execution_count": 312,
      "id": "f63c0986",
      "metadata": {},
      "outputs": [],
      "source": [
        "# закрытие соединения\n",
        "connection.close()"
      ]
    },
    {
      "attachments": {},
      "cell_type": "markdown",
      "id": "9cc77f7e",
      "metadata": {},
      "source": [
        "Вывод по-дополнительному исследованию. \n",
        "- Для специалиста junio очень важно обладать большим количеством навыков. Так среднее количество навыков для данного специалиста 7. \n",
        "- При этом специалист без опыта работы может рассчитывать на минимальную зарплату в размере 37000 рублей. \n",
        "- Работодатели предпочитают брать работников на полную занятость. На первом месте стоит тип рабочего графика \"Полный день\" 319 вакансий, на втором месте \"Удаленная работа\" 110 вакансий. Работая в данной сфере можно спокойно найти работу на удаленную работу. \n",
        "- Больше всего вакансий для DS предлагают банки, так Сбер выложил 37 вакансий, а ВТБ 18. Компании относящиеся к другим услугам как Bell Integrator предложили 25, и VK 15. При этом 225 работодателя ищут DS. Видно, что данный специалист нужен во многих компаниях.\n",
        "- В будущем интересно посмотреть на динамику роста или уменьшения популярности специальности DS. Так же интересно будет исследовать количество кандитатов на разные специальности, чтобы понять насколько конкурентная среда в каждой сфере."
      ]
    }
  ],
  "metadata": {
    "colab": {
      "collapsed_sections": [
        "8d62a9f3-f64e-4fe7-bdac-c4dffa16155e"
      ],
      "provenance": []
    },
    "kernelspec": {
      "display_name": "Python 3",
      "language": "python",
      "name": "python3"
    },
    "language_info": {
      "codemirror_mode": {
        "name": "ipython",
        "version": 3
      },
      "file_extension": ".py",
      "mimetype": "text/x-python",
      "name": "python",
      "nbconvert_exporter": "python",
      "pygments_lexer": "ipython3",
      "version": "3.10.7"
    },
    "vscode": {
      "interpreter": {
        "hash": "afb734500600fd355917ca529030176ea0ca205570884b88f2f6f7d791fd3fbe"
      }
    }
  },
  "nbformat": 4,
  "nbformat_minor": 5
}
